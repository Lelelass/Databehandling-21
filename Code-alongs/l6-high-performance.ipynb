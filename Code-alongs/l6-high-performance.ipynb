{
 "cells": [
  {
   "cell_type": "code",
   "execution_count": 2,
   "metadata": {},
   "outputs": [],
   "source": [
    "import numpy as np\n",
    "import pandas as pd\n",
    "\n",
    "nrows, ncols = 1000000, 100\n",
    "df1, df2, df3, df4 = [pd.DataFrame(np.random.randn(nrows, ncols)) for _ in range(4)]"
   ]
  },
  {
   "cell_type": "code",
   "execution_count": 3,
   "metadata": {},
   "outputs": [
    {
     "data": {
      "text/html": [
       "<div>\n",
       "<style scoped>\n",
       "    .dataframe tbody tr th:only-of-type {\n",
       "        vertical-align: middle;\n",
       "    }\n",
       "\n",
       "    .dataframe tbody tr th {\n",
       "        vertical-align: top;\n",
       "    }\n",
       "\n",
       "    .dataframe thead th {\n",
       "        text-align: right;\n",
       "    }\n",
       "</style>\n",
       "<table border=\"1\" class=\"dataframe\">\n",
       "  <thead>\n",
       "    <tr style=\"text-align: right;\">\n",
       "      <th></th>\n",
       "      <th>0</th>\n",
       "      <th>1</th>\n",
       "      <th>2</th>\n",
       "      <th>3</th>\n",
       "      <th>4</th>\n",
       "      <th>5</th>\n",
       "      <th>6</th>\n",
       "      <th>7</th>\n",
       "      <th>8</th>\n",
       "      <th>9</th>\n",
       "      <th>...</th>\n",
       "      <th>90</th>\n",
       "      <th>91</th>\n",
       "      <th>92</th>\n",
       "      <th>93</th>\n",
       "      <th>94</th>\n",
       "      <th>95</th>\n",
       "      <th>96</th>\n",
       "      <th>97</th>\n",
       "      <th>98</th>\n",
       "      <th>99</th>\n",
       "    </tr>\n",
       "  </thead>\n",
       "  <tbody>\n",
       "    <tr>\n",
       "      <th>0</th>\n",
       "      <td>0.610003</td>\n",
       "      <td>-1.031753</td>\n",
       "      <td>0.233453</td>\n",
       "      <td>0.384935</td>\n",
       "      <td>1.020578</td>\n",
       "      <td>-1.617181</td>\n",
       "      <td>-1.643004</td>\n",
       "      <td>0.440204</td>\n",
       "      <td>-0.879548</td>\n",
       "      <td>0.654030</td>\n",
       "      <td>...</td>\n",
       "      <td>0.034791</td>\n",
       "      <td>1.277198</td>\n",
       "      <td>0.251999</td>\n",
       "      <td>-1.504475</td>\n",
       "      <td>1.684855</td>\n",
       "      <td>-1.567528</td>\n",
       "      <td>-0.660696</td>\n",
       "      <td>0.627932</td>\n",
       "      <td>-1.255720</td>\n",
       "      <td>0.762740</td>\n",
       "    </tr>\n",
       "    <tr>\n",
       "      <th>1</th>\n",
       "      <td>0.807767</td>\n",
       "      <td>0.915843</td>\n",
       "      <td>1.495467</td>\n",
       "      <td>-0.099259</td>\n",
       "      <td>-1.042285</td>\n",
       "      <td>-0.478976</td>\n",
       "      <td>-0.487552</td>\n",
       "      <td>-0.825800</td>\n",
       "      <td>0.001986</td>\n",
       "      <td>-0.562863</td>\n",
       "      <td>...</td>\n",
       "      <td>0.867247</td>\n",
       "      <td>-0.353936</td>\n",
       "      <td>-2.037303</td>\n",
       "      <td>-0.070677</td>\n",
       "      <td>0.736122</td>\n",
       "      <td>0.428248</td>\n",
       "      <td>0.260496</td>\n",
       "      <td>0.061098</td>\n",
       "      <td>0.023052</td>\n",
       "      <td>-0.024417</td>\n",
       "    </tr>\n",
       "    <tr>\n",
       "      <th>2</th>\n",
       "      <td>1.228179</td>\n",
       "      <td>0.252594</td>\n",
       "      <td>1.211377</td>\n",
       "      <td>0.845323</td>\n",
       "      <td>-1.854173</td>\n",
       "      <td>-0.570053</td>\n",
       "      <td>-0.542776</td>\n",
       "      <td>-0.250490</td>\n",
       "      <td>0.467115</td>\n",
       "      <td>-0.095801</td>\n",
       "      <td>...</td>\n",
       "      <td>-0.067695</td>\n",
       "      <td>1.240601</td>\n",
       "      <td>-0.417079</td>\n",
       "      <td>0.129617</td>\n",
       "      <td>-2.109742</td>\n",
       "      <td>0.356898</td>\n",
       "      <td>-0.684118</td>\n",
       "      <td>-1.293436</td>\n",
       "      <td>-0.369635</td>\n",
       "      <td>1.924682</td>\n",
       "    </tr>\n",
       "    <tr>\n",
       "      <th>3</th>\n",
       "      <td>0.026919</td>\n",
       "      <td>-0.048768</td>\n",
       "      <td>0.023874</td>\n",
       "      <td>-0.530608</td>\n",
       "      <td>0.458422</td>\n",
       "      <td>0.567452</td>\n",
       "      <td>-0.690086</td>\n",
       "      <td>-1.534650</td>\n",
       "      <td>-0.607978</td>\n",
       "      <td>-1.243452</td>\n",
       "      <td>...</td>\n",
       "      <td>-0.950031</td>\n",
       "      <td>0.061123</td>\n",
       "      <td>0.850162</td>\n",
       "      <td>-0.222121</td>\n",
       "      <td>1.251091</td>\n",
       "      <td>-0.739175</td>\n",
       "      <td>0.428279</td>\n",
       "      <td>-0.029419</td>\n",
       "      <td>0.060762</td>\n",
       "      <td>0.431145</td>\n",
       "    </tr>\n",
       "    <tr>\n",
       "      <th>4</th>\n",
       "      <td>1.671579</td>\n",
       "      <td>-0.614628</td>\n",
       "      <td>-0.548773</td>\n",
       "      <td>1.067427</td>\n",
       "      <td>0.525899</td>\n",
       "      <td>-0.255483</td>\n",
       "      <td>-0.953490</td>\n",
       "      <td>-0.267582</td>\n",
       "      <td>-0.738972</td>\n",
       "      <td>0.160210</td>\n",
       "      <td>...</td>\n",
       "      <td>0.881884</td>\n",
       "      <td>-1.131615</td>\n",
       "      <td>0.546031</td>\n",
       "      <td>0.597201</td>\n",
       "      <td>0.891077</td>\n",
       "      <td>-1.280839</td>\n",
       "      <td>0.943638</td>\n",
       "      <td>0.614540</td>\n",
       "      <td>-1.404644</td>\n",
       "      <td>0.153180</td>\n",
       "    </tr>\n",
       "  </tbody>\n",
       "</table>\n",
       "<p>5 rows × 100 columns</p>\n",
       "</div>"
      ],
      "text/plain": [
       "         0         1         2         3         4         5         6   \\\n",
       "0  0.610003 -1.031753  0.233453  0.384935  1.020578 -1.617181 -1.643004   \n",
       "1  0.807767  0.915843  1.495467 -0.099259 -1.042285 -0.478976 -0.487552   \n",
       "2  1.228179  0.252594  1.211377  0.845323 -1.854173 -0.570053 -0.542776   \n",
       "3  0.026919 -0.048768  0.023874 -0.530608  0.458422  0.567452 -0.690086   \n",
       "4  1.671579 -0.614628 -0.548773  1.067427  0.525899 -0.255483 -0.953490   \n",
       "\n",
       "         7         8         9   ...        90        91        92        93  \\\n",
       "0  0.440204 -0.879548  0.654030  ...  0.034791  1.277198  0.251999 -1.504475   \n",
       "1 -0.825800  0.001986 -0.562863  ...  0.867247 -0.353936 -2.037303 -0.070677   \n",
       "2 -0.250490  0.467115 -0.095801  ... -0.067695  1.240601 -0.417079  0.129617   \n",
       "3 -1.534650 -0.607978 -1.243452  ... -0.950031  0.061123  0.850162 -0.222121   \n",
       "4 -0.267582 -0.738972  0.160210  ...  0.881884 -1.131615  0.546031  0.597201   \n",
       "\n",
       "         94        95        96        97        98        99  \n",
       "0  1.684855 -1.567528 -0.660696  0.627932 -1.255720  0.762740  \n",
       "1  0.736122  0.428248  0.260496  0.061098  0.023052 -0.024417  \n",
       "2 -2.109742  0.356898 -0.684118 -1.293436 -0.369635  1.924682  \n",
       "3  1.251091 -0.739175  0.428279 -0.029419  0.060762  0.431145  \n",
       "4  0.891077 -1.280839  0.943638  0.614540 -1.404644  0.153180  \n",
       "\n",
       "[5 rows x 100 columns]"
      ]
     },
     "execution_count": 3,
     "metadata": {},
     "output_type": "execute_result"
    }
   ],
   "source": [
    "df1.head()"
   ]
  },
  {
   "cell_type": "code",
   "execution_count": 4,
   "metadata": {},
   "outputs": [
    {
     "name": "stdout",
     "output_type": "stream",
     "text": [
      "563 ms ± 6.92 ms per loop (mean ± std. dev. of 7 runs, 1 loop each)\n"
     ]
    }
   ],
   "source": [
    "%timeit df1 + df2 +df3 +df4"
   ]
  },
  {
   "cell_type": "code",
   "execution_count": 6,
   "metadata": {},
   "outputs": [
    {
     "name": "stdout",
     "output_type": "stream",
     "text": [
      "230 ms ± 8.65 ms per loop (mean ± std. dev. of 7 runs, 1 loop each)\n"
     ]
    }
   ],
   "source": [
    "%timeit pd.eval(\"df1 + df2 + df3 + df4\")"
   ]
  },
  {
   "cell_type": "code",
   "execution_count": 7,
   "metadata": {},
   "outputs": [
    {
     "data": {
      "text/plain": [
       "True"
      ]
     },
     "execution_count": 7,
     "metadata": {},
     "output_type": "execute_result"
    }
   ],
   "source": [
    "plain = df1 + df2 + df3 + df4\n",
    "sum_eval = pd.eval(\"df1 + df2 + df3 + df4\")\n",
    "\n",
    "sum_eval.equals(plain)"
   ]
  },
  {
   "cell_type": "code",
   "execution_count": 9,
   "metadata": {},
   "outputs": [
    {
     "data": {
      "text/html": [
       "<div>\n",
       "<style scoped>\n",
       "    .dataframe tbody tr th:only-of-type {\n",
       "        vertical-align: middle;\n",
       "    }\n",
       "\n",
       "    .dataframe tbody tr th {\n",
       "        vertical-align: top;\n",
       "    }\n",
       "\n",
       "    .dataframe thead th {\n",
       "        text-align: right;\n",
       "    }\n",
       "</style>\n",
       "<table border=\"1\" class=\"dataframe\">\n",
       "  <thead>\n",
       "    <tr style=\"text-align: right;\">\n",
       "      <th></th>\n",
       "      <th>Die1</th>\n",
       "      <th>Die2</th>\n",
       "      <th>Die3</th>\n",
       "      <th>Sum</th>\n",
       "    </tr>\n",
       "  </thead>\n",
       "  <tbody>\n",
       "    <tr>\n",
       "      <th>0</th>\n",
       "      <td>3</td>\n",
       "      <td>3</td>\n",
       "      <td>5</td>\n",
       "      <td>11</td>\n",
       "    </tr>\n",
       "    <tr>\n",
       "      <th>1</th>\n",
       "      <td>1</td>\n",
       "      <td>1</td>\n",
       "      <td>4</td>\n",
       "      <td>6</td>\n",
       "    </tr>\n",
       "    <tr>\n",
       "      <th>2</th>\n",
       "      <td>5</td>\n",
       "      <td>3</td>\n",
       "      <td>4</td>\n",
       "      <td>12</td>\n",
       "    </tr>\n",
       "    <tr>\n",
       "      <th>3</th>\n",
       "      <td>3</td>\n",
       "      <td>5</td>\n",
       "      <td>3</td>\n",
       "      <td>11</td>\n",
       "    </tr>\n",
       "    <tr>\n",
       "      <th>4</th>\n",
       "      <td>2</td>\n",
       "      <td>5</td>\n",
       "      <td>2</td>\n",
       "      <td>9</td>\n",
       "    </tr>\n",
       "    <tr>\n",
       "      <th>5</th>\n",
       "      <td>1</td>\n",
       "      <td>3</td>\n",
       "      <td>5</td>\n",
       "      <td>9</td>\n",
       "    </tr>\n",
       "  </tbody>\n",
       "</table>\n",
       "</div>"
      ],
      "text/plain": [
       "   Die1  Die2  Die3  Sum\n",
       "0     3     3     5   11\n",
       "1     1     1     4    6\n",
       "2     5     3     4   12\n",
       "3     3     5     3   11\n",
       "4     2     5     2    9\n",
       "5     1     3     5    9"
      ]
     },
     "execution_count": 9,
     "metadata": {},
     "output_type": "execute_result"
    }
   ],
   "source": [
    "rolls = pd.DataFrame(np.random.randint(1,6, (6,3)), columns = [\"Die1\", \"Die2\", \"Die3\" ])\n",
    "rolls.eval(\"Sum = Die1 + Die2 + Die3\", inplace = True)\n",
    "rolls"
   ]
  },
  {
   "cell_type": "code",
   "execution_count": 10,
   "metadata": {},
   "outputs": [
    {
     "data": {
      "text/html": [
       "<div>\n",
       "<style scoped>\n",
       "    .dataframe tbody tr th:only-of-type {\n",
       "        vertical-align: middle;\n",
       "    }\n",
       "\n",
       "    .dataframe tbody tr th {\n",
       "        vertical-align: top;\n",
       "    }\n",
       "\n",
       "    .dataframe thead th {\n",
       "        text-align: right;\n",
       "    }\n",
       "</style>\n",
       "<table border=\"1\" class=\"dataframe\">\n",
       "  <thead>\n",
       "    <tr style=\"text-align: right;\">\n",
       "      <th></th>\n",
       "      <th>Die1</th>\n",
       "      <th>Die2</th>\n",
       "      <th>Die3</th>\n",
       "      <th>Sum</th>\n",
       "      <th>Winner</th>\n",
       "    </tr>\n",
       "  </thead>\n",
       "  <tbody>\n",
       "    <tr>\n",
       "      <th>0</th>\n",
       "      <td>3</td>\n",
       "      <td>3</td>\n",
       "      <td>5</td>\n",
       "      <td>11</td>\n",
       "      <td>True</td>\n",
       "    </tr>\n",
       "    <tr>\n",
       "      <th>1</th>\n",
       "      <td>1</td>\n",
       "      <td>1</td>\n",
       "      <td>4</td>\n",
       "      <td>6</td>\n",
       "      <td>False</td>\n",
       "    </tr>\n",
       "    <tr>\n",
       "      <th>2</th>\n",
       "      <td>5</td>\n",
       "      <td>3</td>\n",
       "      <td>4</td>\n",
       "      <td>12</td>\n",
       "      <td>True</td>\n",
       "    </tr>\n",
       "    <tr>\n",
       "      <th>3</th>\n",
       "      <td>3</td>\n",
       "      <td>5</td>\n",
       "      <td>3</td>\n",
       "      <td>11</td>\n",
       "      <td>True</td>\n",
       "    </tr>\n",
       "    <tr>\n",
       "      <th>4</th>\n",
       "      <td>2</td>\n",
       "      <td>5</td>\n",
       "      <td>2</td>\n",
       "      <td>9</td>\n",
       "      <td>False</td>\n",
       "    </tr>\n",
       "    <tr>\n",
       "      <th>5</th>\n",
       "      <td>1</td>\n",
       "      <td>3</td>\n",
       "      <td>5</td>\n",
       "      <td>9</td>\n",
       "      <td>False</td>\n",
       "    </tr>\n",
       "  </tbody>\n",
       "</table>\n",
       "</div>"
      ],
      "text/plain": [
       "   Die1  Die2  Die3  Sum  Winner\n",
       "0     3     3     5   11    True\n",
       "1     1     1     4    6   False\n",
       "2     5     3     4   12    True\n",
       "3     3     5     3   11    True\n",
       "4     2     5     2    9   False\n",
       "5     1     3     5    9   False"
      ]
     },
     "execution_count": 10,
     "metadata": {},
     "output_type": "execute_result"
    }
   ],
   "source": [
    "#use variables\n",
    "high = 10\n",
    "rolls.eval(\"Winner = Sum > @high\", inplace = True)\n",
    "rolls"
   ]
  },
  {
   "cell_type": "code",
   "execution_count": 11,
   "metadata": {},
   "outputs": [
    {
     "data": {
      "text/html": [
       "<div>\n",
       "<style scoped>\n",
       "    .dataframe tbody tr th:only-of-type {\n",
       "        vertical-align: middle;\n",
       "    }\n",
       "\n",
       "    .dataframe tbody tr th {\n",
       "        vertical-align: top;\n",
       "    }\n",
       "\n",
       "    .dataframe thead th {\n",
       "        text-align: right;\n",
       "    }\n",
       "</style>\n",
       "<table border=\"1\" class=\"dataframe\">\n",
       "  <thead>\n",
       "    <tr style=\"text-align: right;\">\n",
       "      <th></th>\n",
       "      <th>Die1</th>\n",
       "      <th>Die2</th>\n",
       "      <th>Die3</th>\n",
       "      <th>Sum</th>\n",
       "      <th>Winner</th>\n",
       "    </tr>\n",
       "  </thead>\n",
       "  <tbody>\n",
       "    <tr>\n",
       "      <th>1</th>\n",
       "      <td>1</td>\n",
       "      <td>1</td>\n",
       "      <td>4</td>\n",
       "      <td>6</td>\n",
       "      <td>False</td>\n",
       "    </tr>\n",
       "    <tr>\n",
       "      <th>4</th>\n",
       "      <td>2</td>\n",
       "      <td>5</td>\n",
       "      <td>2</td>\n",
       "      <td>9</td>\n",
       "      <td>False</td>\n",
       "    </tr>\n",
       "    <tr>\n",
       "      <th>5</th>\n",
       "      <td>1</td>\n",
       "      <td>3</td>\n",
       "      <td>5</td>\n",
       "      <td>9</td>\n",
       "      <td>False</td>\n",
       "    </tr>\n",
       "  </tbody>\n",
       "</table>\n",
       "</div>"
      ],
      "text/plain": [
       "   Die1  Die2  Die3  Sum  Winner\n",
       "1     1     1     4    6   False\n",
       "4     2     5     2    9   False\n",
       "5     1     3     5    9   False"
      ]
     },
     "execution_count": 11,
     "metadata": {},
     "output_type": "execute_result"
    }
   ],
   "source": [
    "#Filter out traditional way\n",
    "rolls[rolls[\"Sum\"] <= high]"
   ]
  },
  {
   "cell_type": "code",
   "execution_count": 12,
   "metadata": {},
   "outputs": [
    {
     "data": {
      "text/html": [
       "<div>\n",
       "<style scoped>\n",
       "    .dataframe tbody tr th:only-of-type {\n",
       "        vertical-align: middle;\n",
       "    }\n",
       "\n",
       "    .dataframe tbody tr th {\n",
       "        vertical-align: top;\n",
       "    }\n",
       "\n",
       "    .dataframe thead th {\n",
       "        text-align: right;\n",
       "    }\n",
       "</style>\n",
       "<table border=\"1\" class=\"dataframe\">\n",
       "  <thead>\n",
       "    <tr style=\"text-align: right;\">\n",
       "      <th></th>\n",
       "      <th>Die1</th>\n",
       "      <th>Die2</th>\n",
       "      <th>Die3</th>\n",
       "      <th>Sum</th>\n",
       "      <th>Winner</th>\n",
       "    </tr>\n",
       "  </thead>\n",
       "  <tbody>\n",
       "    <tr>\n",
       "      <th>1</th>\n",
       "      <td>1</td>\n",
       "      <td>1</td>\n",
       "      <td>4</td>\n",
       "      <td>6</td>\n",
       "      <td>False</td>\n",
       "    </tr>\n",
       "    <tr>\n",
       "      <th>4</th>\n",
       "      <td>2</td>\n",
       "      <td>5</td>\n",
       "      <td>2</td>\n",
       "      <td>9</td>\n",
       "      <td>False</td>\n",
       "    </tr>\n",
       "    <tr>\n",
       "      <th>5</th>\n",
       "      <td>1</td>\n",
       "      <td>3</td>\n",
       "      <td>5</td>\n",
       "      <td>9</td>\n",
       "      <td>False</td>\n",
       "    </tr>\n",
       "  </tbody>\n",
       "</table>\n",
       "</div>"
      ],
      "text/plain": [
       "   Die1  Die2  Die3  Sum  Winner\n",
       "1     1     1     4    6   False\n",
       "4     2     5     2    9   False\n",
       "5     1     3     5    9   False"
      ]
     },
     "execution_count": 12,
     "metadata": {},
     "output_type": "execute_result"
    }
   ],
   "source": [
    "rolls.query(\"Sum <= @high\")"
   ]
  },
  {
   "cell_type": "code",
   "execution_count": 13,
   "metadata": {},
   "outputs": [
    {
     "name": "stdout",
     "output_type": "stream",
     "text": [
      "720 µs ± 11.8 µs per loop (mean ± std. dev. of 7 runs, 1000 loops each)\n"
     ]
    }
   ],
   "source": [
    "%timeit rolls.query(\"Sum <= @high\")"
   ]
  },
  {
   "cell_type": "code",
   "execution_count": 15,
   "metadata": {},
   "outputs": [
    {
     "name": "stdout",
     "output_type": "stream",
     "text": [
      "131 µs ± 136 ns per loop (mean ± std. dev. of 7 runs, 10000 loops each)\n"
     ]
    }
   ],
   "source": [
    "%timeit rolls[rolls[\"Sum\"] <= high]"
   ]
  },
  {
   "cell_type": "code",
   "execution_count": 14,
   "metadata": {},
   "outputs": [],
   "source": [
    "olympic_games = pd.read_csv(\"./Data/athlete_events.csv\")"
   ]
  }
 ],
 "metadata": {
  "interpreter": {
   "hash": "81322f1d5f5b025dc9d26743ae6b0887709891d1868e2519a65f496d34ef2711"
  },
  "kernelspec": {
   "display_name": "Python 3.9.6 64-bit ('Databehandling-21-RDeAT-oS': pipenv)",
   "language": "python",
   "name": "python3"
  },
  "language_info": {
   "codemirror_mode": {
    "name": "ipython",
    "version": 3
   },
   "file_extension": ".py",
   "mimetype": "text/x-python",
   "name": "python",
   "nbconvert_exporter": "python",
   "pygments_lexer": "ipython3",
   "version": "3.9.6"
  },
  "orig_nbformat": 4
 },
 "nbformat": 4,
 "nbformat_minor": 2
}
