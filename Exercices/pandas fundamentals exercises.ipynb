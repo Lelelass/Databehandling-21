{
 "cells": [
  {
   "cell_type": "code",
   "execution_count": 2,
   "metadata": {},
   "outputs": [
    {
     "name": "stdout",
     "output_type": "stream",
     "text": [
      "      Kommun  Population\n",
      "0      Malmö      347949\n",
      "1  Stockholm      975551\n",
      "2    Uppsala      233839\n",
      "3   Göteborg      583056\n"
     ]
    }
   ],
   "source": [
    "import pandas as pd\n",
    "cities = pd.Series([\"Malmö\",\"Stockholm\", \"Uppsala\", \"Göteborg\"])\n",
    "populations = pd.Series([347949, 975551, 233839, 583056])\n",
    "\n",
    "cities_df = pd.DataFrame({\"Kommun\" : cities, \"Population\" : populations})\n",
    "print(cities_df)"
   ]
  }
 ],
 "metadata": {
  "interpreter": {
   "hash": "81322f1d5f5b025dc9d26743ae6b0887709891d1868e2519a65f496d34ef2711"
  },
  "kernelspec": {
   "display_name": "Python 3.9.6 64-bit ('Databehandling-21-RDeAT-oS': pipenv)",
   "name": "python3"
  },
  "language_info": {
   "codemirror_mode": {
    "name": "ipython",
    "version": 3
   },
   "file_extension": ".py",
   "mimetype": "text/x-python",
   "name": "python",
   "nbconvert_exporter": "python",
   "pygments_lexer": "ipython3",
   "version": "3.9.6"
  },
  "orig_nbformat": 4
 },
 "nbformat": 4,
 "nbformat_minor": 2
}
