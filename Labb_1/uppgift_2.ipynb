{
 "cells": [
  {
   "cell_type": "markdown",
   "metadata": {},
   "source": [
    "# Uppgift 2 - Uppvärmning vaccindata"
   ]
  },
  {
   "cell_type": "code",
   "execution_count": 35,
   "metadata": {},
   "outputs": [
    {
     "data": {
      "text/html": [
       "<div>\n",
       "<style scoped>\n",
       "    .dataframe tbody tr th:only-of-type {\n",
       "        vertical-align: middle;\n",
       "    }\n",
       "\n",
       "    .dataframe tbody tr th {\n",
       "        vertical-align: top;\n",
       "    }\n",
       "\n",
       "    .dataframe thead th {\n",
       "        text-align: right;\n",
       "    }\n",
       "</style>\n",
       "<table border=\"1\" class=\"dataframe\">\n",
       "  <thead>\n",
       "    <tr style=\"text-align: right;\">\n",
       "      <th></th>\n",
       "      <th>KnKod</th>\n",
       "      <th>KnNamn</th>\n",
       "      <th>Antal_dos1</th>\n",
       "      <th>Antal_färdigvaccinerade</th>\n",
       "      <th>Andel_dos1</th>\n",
       "      <th>Andel_färdigvaccinerade</th>\n",
       "    </tr>\n",
       "  </thead>\n",
       "  <tbody>\n",
       "    <tr>\n",
       "      <th>0</th>\n",
       "      <td>114</td>\n",
       "      <td>Upplands Väsby</td>\n",
       "      <td>30030</td>\n",
       "      <td>27537</td>\n",
       "      <td>0.789183</td>\n",
       "      <td>0.723668</td>\n",
       "    </tr>\n",
       "    <tr>\n",
       "      <th>1</th>\n",
       "      <td>115</td>\n",
       "      <td>Vallentuna</td>\n",
       "      <td>23165</td>\n",
       "      <td>21681</td>\n",
       "      <td>0.858344</td>\n",
       "      <td>0.803357</td>\n",
       "    </tr>\n",
       "    <tr>\n",
       "      <th>2</th>\n",
       "      <td>117</td>\n",
       "      <td>Österåker</td>\n",
       "      <td>32922</td>\n",
       "      <td>30615</td>\n",
       "      <td>0.876751</td>\n",
       "      <td>0.815313</td>\n",
       "    </tr>\n",
       "    <tr>\n",
       "      <th>3</th>\n",
       "      <td>120</td>\n",
       "      <td>Värmdö</td>\n",
       "      <td>31618</td>\n",
       "      <td>28831</td>\n",
       "      <td>0.865180</td>\n",
       "      <td>0.788918</td>\n",
       "    </tr>\n",
       "    <tr>\n",
       "      <th>4</th>\n",
       "      <td>123</td>\n",
       "      <td>Järfälla</td>\n",
       "      <td>51550</td>\n",
       "      <td>47186</td>\n",
       "      <td>0.786459</td>\n",
       "      <td>0.719880</td>\n",
       "    </tr>\n",
       "  </tbody>\n",
       "</table>\n",
       "</div>"
      ],
      "text/plain": [
       "   KnKod          KnNamn  Antal_dos1  Antal_färdigvaccinerade  Andel_dos1  \\\n",
       "0    114  Upplands Väsby       30030                    27537    0.789183   \n",
       "1    115      Vallentuna       23165                    21681    0.858344   \n",
       "2    117       Österåker       32922                    30615    0.876751   \n",
       "3    120          Värmdö       31618                    28831    0.865180   \n",
       "4    123        Järfälla       51550                    47186    0.786459   \n",
       "\n",
       "   Andel_färdigvaccinerade  \n",
       "0                 0.723668  \n",
       "1                 0.803357  \n",
       "2                 0.815313  \n",
       "3                 0.788918  \n",
       "4                 0.719880  "
      ]
     },
     "execution_count": 35,
     "metadata": {},
     "output_type": "execute_result"
    }
   ],
   "source": [
    "import pandas as pd\n",
    "path = \"Data/Folkhalsomyndigheten_Covid19_Vaccine.xlsx\"\n",
    "vaccination_kommun = pd.read_excel(path, sheet_name=\"Vaccinerade kommun\")\n",
    "vaccination_kommun.head()"
   ]
  },
  {
   "cell_type": "code",
   "execution_count": 36,
   "metadata": {},
   "outputs": [
    {
     "data": {
      "text/html": [
       "<div>\n",
       "<style scoped>\n",
       "    .dataframe tbody tr th:only-of-type {\n",
       "        vertical-align: middle;\n",
       "    }\n",
       "\n",
       "    .dataframe tbody tr th {\n",
       "        vertical-align: top;\n",
       "    }\n",
       "\n",
       "    .dataframe thead th {\n",
       "        text-align: right;\n",
       "    }\n",
       "</style>\n",
       "<table border=\"1\" class=\"dataframe\">\n",
       "  <thead>\n",
       "    <tr style=\"text-align: right;\">\n",
       "      <th></th>\n",
       "      <th>Region</th>\n",
       "      <th>Åldersgrupp</th>\n",
       "      <th>Antal vaccinerade</th>\n",
       "      <th>Andel vaccinerade</th>\n",
       "      <th>Vaccinationsstatus</th>\n",
       "    </tr>\n",
       "  </thead>\n",
       "  <tbody>\n",
       "    <tr>\n",
       "      <th>0</th>\n",
       "      <td>| Sverige |</td>\n",
       "      <td>12-15</td>\n",
       "      <td>61430</td>\n",
       "      <td>0.124423</td>\n",
       "      <td>Minst 1 dos</td>\n",
       "    </tr>\n",
       "    <tr>\n",
       "      <th>1</th>\n",
       "      <td>| Sverige |</td>\n",
       "      <td>16-17</td>\n",
       "      <td>164274</td>\n",
       "      <td>0.697477</td>\n",
       "      <td>Minst 1 dos</td>\n",
       "    </tr>\n",
       "    <tr>\n",
       "      <th>2</th>\n",
       "      <td>| Sverige |</td>\n",
       "      <td>18-29</td>\n",
       "      <td>1103074</td>\n",
       "      <td>0.743473</td>\n",
       "      <td>Minst 1 dos</td>\n",
       "    </tr>\n",
       "    <tr>\n",
       "      <th>3</th>\n",
       "      <td>| Sverige |</td>\n",
       "      <td>30-39</td>\n",
       "      <td>1091243</td>\n",
       "      <td>0.765540</td>\n",
       "      <td>Minst 1 dos</td>\n",
       "    </tr>\n",
       "    <tr>\n",
       "      <th>4</th>\n",
       "      <td>| Sverige |</td>\n",
       "      <td>40-49</td>\n",
       "      <td>1084644</td>\n",
       "      <td>0.837383</td>\n",
       "      <td>Minst 1 dos</td>\n",
       "    </tr>\n",
       "  </tbody>\n",
       "</table>\n",
       "</div>"
      ],
      "text/plain": [
       "        Region Åldersgrupp  Antal vaccinerade  Andel vaccinerade  \\\n",
       "0  | Sverige |       12-15              61430           0.124423   \n",
       "1  | Sverige |       16-17             164274           0.697477   \n",
       "2  | Sverige |       18-29            1103074           0.743473   \n",
       "3  | Sverige |       30-39            1091243           0.765540   \n",
       "4  | Sverige |       40-49            1084644           0.837383   \n",
       "\n",
       "  Vaccinationsstatus  \n",
       "0        Minst 1 dos  \n",
       "1        Minst 1 dos  \n",
       "2        Minst 1 dos  \n",
       "3        Minst 1 dos  \n",
       "4        Minst 1 dos  "
      ]
     },
     "execution_count": 36,
     "metadata": {},
     "output_type": "execute_result"
    }
   ],
   "source": [
    "vaccination_ålder = pd.read_excel(path, sheet_name=\"Vaccinerade ålder\")\n",
    "vaccination_ålder.head()"
   ]
  },
  {
   "cell_type": "code",
   "execution_count": 37,
   "metadata": {},
   "outputs": [
    {
     "name": "stdout",
     "output_type": "stream",
     "text": [
      "<class 'pandas.core.frame.DataFrame'>\n",
      "Int64Index: 210 entries, 22 to 471\n",
      "Data columns (total 5 columns):\n",
      " #   Column              Non-Null Count  Dtype  \n",
      "---  ------              --------------  -----  \n",
      " 0   Region              210 non-null    object \n",
      " 1   Åldersgrupp         210 non-null    object \n",
      " 2   Antal vaccinerade   210 non-null    int64  \n",
      " 3   Andel vaccinerade   210 non-null    float64\n",
      " 4   Vaccinationsstatus  210 non-null    object \n",
      "dtypes: float64(1), int64(1), object(3)\n",
      "memory usage: 9.8+ KB\n"
     ]
    }
   ],
   "source": [
    "vaccination_ålder = vaccination_ålder[vaccination_ålder['Region'] != \"| Sverige |\"]\n",
    "vaccination_ålder = vaccination_ålder[vaccination_ålder['Åldersgrupp'] != \"Totalt\"]\n",
    "vaccination_ålder = vaccination_ålder[vaccination_ålder['Vaccinationsstatus'] != \"Färdigvaccinerade\"]\n",
    "vaccination_ålder.info()"
   ]
  },
  {
   "cell_type": "markdown",
   "metadata": {},
   "source": [
    "## a,b,c)"
   ]
  },
  {
   "cell_type": "code",
   "execution_count": 38,
   "metadata": {},
   "outputs": [
    {
     "name": "stdout",
     "output_type": "stream",
     "text": [
      "Antal kommuner :290\n",
      "Antal län :21\n",
      "Antal vaccinerade minst 1 dos : 7274049\n"
     ]
    }
   ],
   "source": [
    "print(f\"Antal kommuner :{len(vaccination_kommun['KnNamn'].unique())}\")\n",
    "print(f\"Antal län :{len(vaccination_ålder['Region'].unique())}\")\n",
    "print(f\"Antal vaccinerade minst 1 dos : {vaccination_ålder['Antal vaccinerade'].sum()}\")"
   ]
  },
  {
   "cell_type": "code",
   "execution_count": 42,
   "metadata": {},
   "outputs": [
    {
     "name": "stderr",
     "output_type": "stream",
     "text": [
      "/var/folders/f7/yr1v3cr12blbcs1mz2hr4b_m0000gn/T/ipykernel_3787/1271160705.py:3: SettingWithCopyWarning: \n",
      "A value is trying to be set on a copy of a slice from a DataFrame.\n",
      "Try using .loc[row_indexer,col_indexer] = value instead\n",
      "\n",
      "See the caveats in the documentation: https://pandas.pydata.org/pandas-docs/stable/user_guide/indexing.html#returning-a-view-versus-a-copy\n",
      "  vaccination_ålder_barn[\"Population\"] = vaccination_ålder_barn.apply(lambda row: row[\"Antal vaccinerade\"] / row[\"Andel vaccinerade\"], axis = 1)\n"
     ]
    },
    {
     "data": {
      "text/html": [
       "<div>\n",
       "<style scoped>\n",
       "    .dataframe tbody tr th:only-of-type {\n",
       "        vertical-align: middle;\n",
       "    }\n",
       "\n",
       "    .dataframe tbody tr th {\n",
       "        vertical-align: top;\n",
       "    }\n",
       "\n",
       "    .dataframe thead th {\n",
       "        text-align: right;\n",
       "    }\n",
       "</style>\n",
       "<table border=\"1\" class=\"dataframe\">\n",
       "  <thead>\n",
       "    <tr style=\"text-align: right;\">\n",
       "      <th></th>\n",
       "      <th>Region</th>\n",
       "      <th>Åldersgrupp</th>\n",
       "      <th>Antal vaccinerade</th>\n",
       "      <th>Andel vaccinerade</th>\n",
       "      <th>Vaccinationsstatus</th>\n",
       "      <th>Population</th>\n",
       "    </tr>\n",
       "  </thead>\n",
       "  <tbody>\n",
       "    <tr>\n",
       "      <th>22</th>\n",
       "      <td>Stockholm</td>\n",
       "      <td>12-15</td>\n",
       "      <td>17482</td>\n",
       "      <td>0.149310</td>\n",
       "      <td>Minst 1 dos</td>\n",
       "      <td>117085.0</td>\n",
       "    </tr>\n",
       "    <tr>\n",
       "      <th>44</th>\n",
       "      <td>Uppsala</td>\n",
       "      <td>12-15</td>\n",
       "      <td>3194</td>\n",
       "      <td>0.174631</td>\n",
       "      <td>Minst 1 dos</td>\n",
       "      <td>18290.0</td>\n",
       "    </tr>\n",
       "    <tr>\n",
       "      <th>66</th>\n",
       "      <td>Södermanland</td>\n",
       "      <td>12-15</td>\n",
       "      <td>2286</td>\n",
       "      <td>0.153495</td>\n",
       "      <td>Minst 1 dos</td>\n",
       "      <td>14893.0</td>\n",
       "    </tr>\n",
       "    <tr>\n",
       "      <th>88</th>\n",
       "      <td>Östergötland</td>\n",
       "      <td>12-15</td>\n",
       "      <td>5341</td>\n",
       "      <td>0.243359</td>\n",
       "      <td>Minst 1 dos</td>\n",
       "      <td>21947.0</td>\n",
       "    </tr>\n",
       "    <tr>\n",
       "      <th>110</th>\n",
       "      <td>Jönköping</td>\n",
       "      <td>12-15</td>\n",
       "      <td>6062</td>\n",
       "      <td>0.338867</td>\n",
       "      <td>Minst 1 dos</td>\n",
       "      <td>17889.0</td>\n",
       "    </tr>\n",
       "  </tbody>\n",
       "</table>\n",
       "</div>"
      ],
      "text/plain": [
       "           Region Åldersgrupp  Antal vaccinerade  Andel vaccinerade  \\\n",
       "22      Stockholm       12-15              17482           0.149310   \n",
       "44        Uppsala       12-15               3194           0.174631   \n",
       "66   Södermanland       12-15               2286           0.153495   \n",
       "88   Östergötland       12-15               5341           0.243359   \n",
       "110     Jönköping       12-15               6062           0.338867   \n",
       "\n",
       "    Vaccinationsstatus  Population  \n",
       "22         Minst 1 dos    117085.0  \n",
       "44         Minst 1 dos     18290.0  \n",
       "66         Minst 1 dos     14893.0  \n",
       "88         Minst 1 dos     21947.0  \n",
       "110        Minst 1 dos     17889.0  "
      ]
     },
     "execution_count": 42,
     "metadata": {},
     "output_type": "execute_result"
    }
   ],
   "source": [
    "vaccination_ålder_barn = vaccination_ålder[vaccination_ålder['Åldersgrupp'] == \"12-15\"]\n",
    "\n",
    "#På så sätt återskapar jag befolkningen\n",
    "vaccination_ålder_barn[\"Population\"] = vaccination_ålder_barn.apply(lambda row: row[\"Antal vaccinerade\"] / row[\"Andel vaccinerade\"], axis = 1)\n",
    "vaccination_ålder_barn.head()\n",
    "\n"
   ]
  },
  {
   "cell_type": "code",
   "execution_count": 43,
   "metadata": {},
   "outputs": [
    {
     "name": "stderr",
     "output_type": "stream",
     "text": [
      "/var/folders/f7/yr1v3cr12blbcs1mz2hr4b_m0000gn/T/ipykernel_3787/2501410605.py:2: SettingWithCopyWarning: \n",
      "A value is trying to be set on a copy of a slice from a DataFrame.\n",
      "Try using .loc[row_indexer,col_indexer] = value instead\n",
      "\n",
      "See the caveats in the documentation: https://pandas.pydata.org/pandas-docs/stable/user_guide/indexing.html#returning-a-view-versus-a-copy\n",
      "  vaccination_ålder_vuxen[\"Population\"] = vaccination_ålder_vuxen.apply(lambda row: row[\"Antal vaccinerade\"] / row[\"Andel vaccinerade\"], axis = 1)\n"
     ]
    },
    {
     "data": {
      "text/html": [
       "<div>\n",
       "<style scoped>\n",
       "    .dataframe tbody tr th:only-of-type {\n",
       "        vertical-align: middle;\n",
       "    }\n",
       "\n",
       "    .dataframe tbody tr th {\n",
       "        vertical-align: top;\n",
       "    }\n",
       "\n",
       "    .dataframe thead th {\n",
       "        text-align: right;\n",
       "    }\n",
       "</style>\n",
       "<table border=\"1\" class=\"dataframe\">\n",
       "  <thead>\n",
       "    <tr style=\"text-align: right;\">\n",
       "      <th></th>\n",
       "      <th>Region</th>\n",
       "      <th>Åldersgrupp</th>\n",
       "      <th>Antal vaccinerade</th>\n",
       "      <th>Andel vaccinerade</th>\n",
       "      <th>Vaccinationsstatus</th>\n",
       "      <th>Population</th>\n",
       "    </tr>\n",
       "  </thead>\n",
       "  <tbody>\n",
       "    <tr>\n",
       "      <th>23</th>\n",
       "      <td>Stockholm</td>\n",
       "      <td>16-17</td>\n",
       "      <td>35496</td>\n",
       "      <td>0.641405</td>\n",
       "      <td>Minst 1 dos</td>\n",
       "      <td>55341.0</td>\n",
       "    </tr>\n",
       "    <tr>\n",
       "      <th>24</th>\n",
       "      <td>Stockholm</td>\n",
       "      <td>18-29</td>\n",
       "      <td>244594</td>\n",
       "      <td>0.713703</td>\n",
       "      <td>Minst 1 dos</td>\n",
       "      <td>342711.0</td>\n",
       "    </tr>\n",
       "    <tr>\n",
       "      <th>25</th>\n",
       "      <td>Stockholm</td>\n",
       "      <td>30-39</td>\n",
       "      <td>280144</td>\n",
       "      <td>0.740391</td>\n",
       "      <td>Minst 1 dos</td>\n",
       "      <td>378373.0</td>\n",
       "    </tr>\n",
       "    <tr>\n",
       "      <th>26</th>\n",
       "      <td>Stockholm</td>\n",
       "      <td>40-49</td>\n",
       "      <td>272736</td>\n",
       "      <td>0.811864</td>\n",
       "      <td>Minst 1 dos</td>\n",
       "      <td>335938.0</td>\n",
       "    </tr>\n",
       "    <tr>\n",
       "      <th>27</th>\n",
       "      <td>Stockholm</td>\n",
       "      <td>50-59</td>\n",
       "      <td>269307</td>\n",
       "      <td>0.869490</td>\n",
       "      <td>Minst 1 dos</td>\n",
       "      <td>309730.0</td>\n",
       "    </tr>\n",
       "  </tbody>\n",
       "</table>\n",
       "</div>"
      ],
      "text/plain": [
       "       Region Åldersgrupp  Antal vaccinerade  Andel vaccinerade  \\\n",
       "23  Stockholm       16-17              35496           0.641405   \n",
       "24  Stockholm       18-29             244594           0.713703   \n",
       "25  Stockholm       30-39             280144           0.740391   \n",
       "26  Stockholm       40-49             272736           0.811864   \n",
       "27  Stockholm       50-59             269307           0.869490   \n",
       "\n",
       "   Vaccinationsstatus  Population  \n",
       "23        Minst 1 dos     55341.0  \n",
       "24        Minst 1 dos    342711.0  \n",
       "25        Minst 1 dos    378373.0  \n",
       "26        Minst 1 dos    335938.0  \n",
       "27        Minst 1 dos    309730.0  "
      ]
     },
     "execution_count": 43,
     "metadata": {},
     "output_type": "execute_result"
    }
   ],
   "source": [
    "vaccination_ålder_vuxen = vaccination_ålder[vaccination_ålder['Åldersgrupp'] != \"12-15\"]\n",
    "vaccination_ålder_vuxen[\"Population\"] = vaccination_ålder_vuxen.apply(lambda row: row[\"Antal vaccinerade\"] / row[\"Andel vaccinerade\"], axis = 1)\n",
    "\n",
    "vaccination_ålder_vuxen.head()"
   ]
  },
  {
   "cell_type": "markdown",
   "metadata": {},
   "source": [
    "## d)"
   ]
  },
  {
   "cell_type": "code",
   "execution_count": 52,
   "metadata": {},
   "outputs": [
    {
     "name": "stdout",
     "output_type": "stream",
     "text": [
      "Sveriges befolkining består av 10379295 invånare.\n",
      "Av dessa är 1837798.0 under 16, varav 1344078.0 är även under tolv. Det finns 8541497.0 vuxna\n"
     ]
    }
   ],
   "source": [
    "total_12_15 = vaccination_ålder_barn[\"Population\"].sum()\n",
    "total_vuxen = vaccination_ålder_vuxen[\"Population\"].sum()\n",
    "sveriges_population = 10379295\n",
    "\n",
    "total_under_12 = sveriges_population - total_12_15 - total_vuxen\n",
    "total_under_16 = total_under_12 + total_12_15\n",
    "print(f\"Sveriges befolkining består av {sveriges_population} invånare.\\nAv dessa är {total_under_16} under 16, varav {total_under_12} är även under tolv. Det finns {total_vuxen} vuxna.\")\n",
    "\n"
   ]
  }
 ],
 "metadata": {
  "interpreter": {
   "hash": "81322f1d5f5b025dc9d26743ae6b0887709891d1868e2519a65f496d34ef2711"
  },
  "kernelspec": {
   "display_name": "Python 3.9.6 64-bit ('Databehandling-21-RDeAT-oS': pipenv)",
   "name": "python3"
  },
  "language_info": {
   "codemirror_mode": {
    "name": "ipython",
    "version": 3
   },
   "file_extension": ".py",
   "mimetype": "text/x-python",
   "name": "python",
   "nbconvert_exporter": "python",
   "pygments_lexer": "ipython3",
   "version": "3.9.6"
  },
  "orig_nbformat": 4
 },
 "nbformat": 4,
 "nbformat_minor": 2
}
