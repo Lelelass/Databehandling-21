{
 "cells": [
  {
   "cell_type": "markdown",
   "metadata": {},
   "source": [
    "# Uppgift 2 - Uppvärmning vaccindata"
   ]
  },
  {
   "cell_type": "code",
   "execution_count": 1,
   "metadata": {},
   "outputs": [
    {
     "data": {
      "text/html": [
       "<div>\n",
       "<style scoped>\n",
       "    .dataframe tbody tr th:only-of-type {\n",
       "        vertical-align: middle;\n",
       "    }\n",
       "\n",
       "    .dataframe tbody tr th {\n",
       "        vertical-align: top;\n",
       "    }\n",
       "\n",
       "    .dataframe thead th {\n",
       "        text-align: right;\n",
       "    }\n",
       "</style>\n",
       "<table border=\"1\" class=\"dataframe\">\n",
       "  <thead>\n",
       "    <tr style=\"text-align: right;\">\n",
       "      <th></th>\n",
       "      <th>KnKod</th>\n",
       "      <th>KnNamn</th>\n",
       "      <th>Antal_dos1</th>\n",
       "      <th>Antal_färdigvaccinerade</th>\n",
       "      <th>Andel_dos1</th>\n",
       "      <th>Andel_färdigvaccinerade</th>\n",
       "    </tr>\n",
       "  </thead>\n",
       "  <tbody>\n",
       "    <tr>\n",
       "      <th>0</th>\n",
       "      <td>114</td>\n",
       "      <td>Upplands Väsby</td>\n",
       "      <td>30030</td>\n",
       "      <td>27537</td>\n",
       "      <td>0.789183</td>\n",
       "      <td>0.723668</td>\n",
       "    </tr>\n",
       "    <tr>\n",
       "      <th>1</th>\n",
       "      <td>115</td>\n",
       "      <td>Vallentuna</td>\n",
       "      <td>23165</td>\n",
       "      <td>21681</td>\n",
       "      <td>0.858344</td>\n",
       "      <td>0.803357</td>\n",
       "    </tr>\n",
       "    <tr>\n",
       "      <th>2</th>\n",
       "      <td>117</td>\n",
       "      <td>Österåker</td>\n",
       "      <td>32922</td>\n",
       "      <td>30615</td>\n",
       "      <td>0.876751</td>\n",
       "      <td>0.815313</td>\n",
       "    </tr>\n",
       "    <tr>\n",
       "      <th>3</th>\n",
       "      <td>120</td>\n",
       "      <td>Värmdö</td>\n",
       "      <td>31618</td>\n",
       "      <td>28831</td>\n",
       "      <td>0.865180</td>\n",
       "      <td>0.788918</td>\n",
       "    </tr>\n",
       "    <tr>\n",
       "      <th>4</th>\n",
       "      <td>123</td>\n",
       "      <td>Järfälla</td>\n",
       "      <td>51550</td>\n",
       "      <td>47186</td>\n",
       "      <td>0.786459</td>\n",
       "      <td>0.719880</td>\n",
       "    </tr>\n",
       "  </tbody>\n",
       "</table>\n",
       "</div>"
      ],
      "text/plain": [
       "   KnKod          KnNamn  Antal_dos1  Antal_färdigvaccinerade  Andel_dos1  \\\n",
       "0    114  Upplands Väsby       30030                    27537    0.789183   \n",
       "1    115      Vallentuna       23165                    21681    0.858344   \n",
       "2    117       Österåker       32922                    30615    0.876751   \n",
       "3    120          Värmdö       31618                    28831    0.865180   \n",
       "4    123        Järfälla       51550                    47186    0.786459   \n",
       "\n",
       "   Andel_färdigvaccinerade  \n",
       "0                 0.723668  \n",
       "1                 0.803357  \n",
       "2                 0.815313  \n",
       "3                 0.788918  \n",
       "4                 0.719880  "
      ]
     },
     "execution_count": 1,
     "metadata": {},
     "output_type": "execute_result"
    }
   ],
   "source": [
    "import pandas as pd\n",
    "path = \"Data/Folkhalsomyndigheten_Covid19_Vaccine.xlsx\"\n",
    "vaccination_kommun = pd.read_excel(path, sheet_name=\"Vaccinerade kommun\")\n",
    "vaccination_kommun.head()"
   ]
  },
  {
   "cell_type": "code",
   "execution_count": 2,
   "metadata": {},
   "outputs": [
    {
     "data": {
      "text/html": [
       "<div>\n",
       "<style scoped>\n",
       "    .dataframe tbody tr th:only-of-type {\n",
       "        vertical-align: middle;\n",
       "    }\n",
       "\n",
       "    .dataframe tbody tr th {\n",
       "        vertical-align: top;\n",
       "    }\n",
       "\n",
       "    .dataframe thead th {\n",
       "        text-align: right;\n",
       "    }\n",
       "</style>\n",
       "<table border=\"1\" class=\"dataframe\">\n",
       "  <thead>\n",
       "    <tr style=\"text-align: right;\">\n",
       "      <th></th>\n",
       "      <th>Region</th>\n",
       "      <th>Åldersgrupp</th>\n",
       "      <th>Antal vaccinerade</th>\n",
       "      <th>Andel vaccinerade</th>\n",
       "      <th>Vaccinationsstatus</th>\n",
       "    </tr>\n",
       "  </thead>\n",
       "  <tbody>\n",
       "    <tr>\n",
       "      <th>0</th>\n",
       "      <td>| Sverige |</td>\n",
       "      <td>12-15</td>\n",
       "      <td>61430</td>\n",
       "      <td>0.124423</td>\n",
       "      <td>Minst 1 dos</td>\n",
       "    </tr>\n",
       "    <tr>\n",
       "      <th>1</th>\n",
       "      <td>| Sverige |</td>\n",
       "      <td>16-17</td>\n",
       "      <td>164274</td>\n",
       "      <td>0.697477</td>\n",
       "      <td>Minst 1 dos</td>\n",
       "    </tr>\n",
       "    <tr>\n",
       "      <th>2</th>\n",
       "      <td>| Sverige |</td>\n",
       "      <td>18-29</td>\n",
       "      <td>1103074</td>\n",
       "      <td>0.743473</td>\n",
       "      <td>Minst 1 dos</td>\n",
       "    </tr>\n",
       "    <tr>\n",
       "      <th>3</th>\n",
       "      <td>| Sverige |</td>\n",
       "      <td>30-39</td>\n",
       "      <td>1091243</td>\n",
       "      <td>0.765540</td>\n",
       "      <td>Minst 1 dos</td>\n",
       "    </tr>\n",
       "    <tr>\n",
       "      <th>4</th>\n",
       "      <td>| Sverige |</td>\n",
       "      <td>40-49</td>\n",
       "      <td>1084644</td>\n",
       "      <td>0.837383</td>\n",
       "      <td>Minst 1 dos</td>\n",
       "    </tr>\n",
       "  </tbody>\n",
       "</table>\n",
       "</div>"
      ],
      "text/plain": [
       "        Region Åldersgrupp  Antal vaccinerade  Andel vaccinerade  \\\n",
       "0  | Sverige |       12-15              61430           0.124423   \n",
       "1  | Sverige |       16-17             164274           0.697477   \n",
       "2  | Sverige |       18-29            1103074           0.743473   \n",
       "3  | Sverige |       30-39            1091243           0.765540   \n",
       "4  | Sverige |       40-49            1084644           0.837383   \n",
       "\n",
       "  Vaccinationsstatus  \n",
       "0        Minst 1 dos  \n",
       "1        Minst 1 dos  \n",
       "2        Minst 1 dos  \n",
       "3        Minst 1 dos  \n",
       "4        Minst 1 dos  "
      ]
     },
     "execution_count": 2,
     "metadata": {},
     "output_type": "execute_result"
    }
   ],
   "source": [
    "vaccination_ålder = pd.read_excel(path, sheet_name=\"Vaccinerade ålder\")\n",
    "vaccination_ålder.head()"
   ]
  },
  {
   "cell_type": "code",
   "execution_count": 3,
   "metadata": {},
   "outputs": [
    {
     "name": "stdout",
     "output_type": "stream",
     "text": [
      "<class 'pandas.core.frame.DataFrame'>\n",
      "Int64Index: 210 entries, 22 to 471\n",
      "Data columns (total 5 columns):\n",
      " #   Column              Non-Null Count  Dtype  \n",
      "---  ------              --------------  -----  \n",
      " 0   Region              210 non-null    object \n",
      " 1   Åldersgrupp         210 non-null    object \n",
      " 2   Antal vaccinerade   210 non-null    int64  \n",
      " 3   Andel vaccinerade   210 non-null    float64\n",
      " 4   Vaccinationsstatus  210 non-null    object \n",
      "dtypes: float64(1), int64(1), object(3)\n",
      "memory usage: 9.8+ KB\n"
     ]
    }
   ],
   "source": [
    "vaccination_ålder = vaccination_ålder[vaccination_ålder['Region'] != \"| Sverige |\"] # Tar bort hela landet från regioner\n",
    "vaccination_ålder = vaccination_ålder[vaccination_ålder['Åldersgrupp'] != \"Totalt\"] # Tar bort subtotals\n",
    "vaccination_ålder = vaccination_ålder[vaccination_ålder['Vaccinationsstatus'] != \"Färdigvaccinerade\"]\n",
    "vaccination_ålder.info()"
   ]
  },
  {
   "cell_type": "markdown",
   "metadata": {},
   "source": [
    "## a,b,c)"
   ]
  },
  {
   "cell_type": "code",
   "execution_count": 4,
   "metadata": {},
   "outputs": [
    {
     "name": "stdout",
     "output_type": "stream",
     "text": [
      "Antal kommuner :290\n",
      "Antal län :21\n",
      "Antal vaccinerade minst 1 dos : 7274049\n"
     ]
    }
   ],
   "source": [
    "print(f\"Antal kommuner :{len(vaccination_kommun['KnNamn'].unique())}\")\n",
    "print(f\"Antal län :{len(vaccination_ålder['Region'].unique())}\")\n",
    "print(f\"Antal vaccinerade minst 1 dos : {vaccination_ålder['Antal vaccinerade'].sum()}\")"
   ]
  },
  {
   "cell_type": "code",
   "execution_count": 5,
   "metadata": {},
   "outputs": [
    {
     "name": "stderr",
     "output_type": "stream",
     "text": [
      "/var/folders/f7/yr1v3cr12blbcs1mz2hr4b_m0000gn/T/ipykernel_24416/3744423952.py:4: SettingWithCopyWarning: \n",
      "A value is trying to be set on a copy of a slice from a DataFrame.\n",
      "Try using .loc[row_indexer,col_indexer] = value instead\n",
      "\n",
      "See the caveats in the documentation: https://pandas.pydata.org/pandas-docs/stable/user_guide/indexing.html#returning-a-view-versus-a-copy\n",
      "  vaccination_ålder_barn[\"Population\"] = vaccination_ålder_barn.apply(lambda row: row[\"Antal vaccinerade\"] / row[\"Andel vaccinerade\"], axis = 1)\n"
     ]
    },
    {
     "data": {
      "text/html": [
       "<div>\n",
       "<style scoped>\n",
       "    .dataframe tbody tr th:only-of-type {\n",
       "        vertical-align: middle;\n",
       "    }\n",
       "\n",
       "    .dataframe tbody tr th {\n",
       "        vertical-align: top;\n",
       "    }\n",
       "\n",
       "    .dataframe thead th {\n",
       "        text-align: right;\n",
       "    }\n",
       "</style>\n",
       "<table border=\"1\" class=\"dataframe\">\n",
       "  <thead>\n",
       "    <tr style=\"text-align: right;\">\n",
       "      <th></th>\n",
       "      <th>Region</th>\n",
       "      <th>Åldersgrupp</th>\n",
       "      <th>Antal vaccinerade</th>\n",
       "      <th>Andel vaccinerade</th>\n",
       "      <th>Vaccinationsstatus</th>\n",
       "      <th>Population</th>\n",
       "    </tr>\n",
       "  </thead>\n",
       "  <tbody>\n",
       "    <tr>\n",
       "      <th>22</th>\n",
       "      <td>Stockholm</td>\n",
       "      <td>12-15</td>\n",
       "      <td>17482</td>\n",
       "      <td>0.149310</td>\n",
       "      <td>Minst 1 dos</td>\n",
       "      <td>117085.0</td>\n",
       "    </tr>\n",
       "    <tr>\n",
       "      <th>44</th>\n",
       "      <td>Uppsala</td>\n",
       "      <td>12-15</td>\n",
       "      <td>3194</td>\n",
       "      <td>0.174631</td>\n",
       "      <td>Minst 1 dos</td>\n",
       "      <td>18290.0</td>\n",
       "    </tr>\n",
       "    <tr>\n",
       "      <th>66</th>\n",
       "      <td>Södermanland</td>\n",
       "      <td>12-15</td>\n",
       "      <td>2286</td>\n",
       "      <td>0.153495</td>\n",
       "      <td>Minst 1 dos</td>\n",
       "      <td>14893.0</td>\n",
       "    </tr>\n",
       "    <tr>\n",
       "      <th>88</th>\n",
       "      <td>Östergötland</td>\n",
       "      <td>12-15</td>\n",
       "      <td>5341</td>\n",
       "      <td>0.243359</td>\n",
       "      <td>Minst 1 dos</td>\n",
       "      <td>21947.0</td>\n",
       "    </tr>\n",
       "    <tr>\n",
       "      <th>110</th>\n",
       "      <td>Jönköping</td>\n",
       "      <td>12-15</td>\n",
       "      <td>6062</td>\n",
       "      <td>0.338867</td>\n",
       "      <td>Minst 1 dos</td>\n",
       "      <td>17889.0</td>\n",
       "    </tr>\n",
       "  </tbody>\n",
       "</table>\n",
       "</div>"
      ],
      "text/plain": [
       "           Region Åldersgrupp  Antal vaccinerade  Andel vaccinerade  \\\n",
       "22      Stockholm       12-15              17482           0.149310   \n",
       "44        Uppsala       12-15               3194           0.174631   \n",
       "66   Södermanland       12-15               2286           0.153495   \n",
       "88   Östergötland       12-15               5341           0.243359   \n",
       "110     Jönköping       12-15               6062           0.338867   \n",
       "\n",
       "    Vaccinationsstatus  Population  \n",
       "22         Minst 1 dos    117085.0  \n",
       "44         Minst 1 dos     18290.0  \n",
       "66         Minst 1 dos     14893.0  \n",
       "88         Minst 1 dos     21947.0  \n",
       "110        Minst 1 dos     17889.0  "
      ]
     },
     "execution_count": 5,
     "metadata": {},
     "output_type": "execute_result"
    }
   ],
   "source": [
    "vaccination_ålder_barn = vaccination_ålder[vaccination_ålder['Åldersgrupp'] == \"12-15\"]\n",
    "\n",
    "#På så sätt återskapar jag befolkningen\n",
    "vaccination_ålder_barn[\"Population\"] = vaccination_ålder_barn.apply(lambda row: row[\"Antal vaccinerade\"] / row[\"Andel vaccinerade\"], axis = 1)\n",
    "vaccination_ålder_barn.head()\n",
    "\n"
   ]
  },
  {
   "cell_type": "code",
   "execution_count": 6,
   "metadata": {},
   "outputs": [
    {
     "name": "stderr",
     "output_type": "stream",
     "text": [
      "/var/folders/f7/yr1v3cr12blbcs1mz2hr4b_m0000gn/T/ipykernel_24416/2501410605.py:2: SettingWithCopyWarning: \n",
      "A value is trying to be set on a copy of a slice from a DataFrame.\n",
      "Try using .loc[row_indexer,col_indexer] = value instead\n",
      "\n",
      "See the caveats in the documentation: https://pandas.pydata.org/pandas-docs/stable/user_guide/indexing.html#returning-a-view-versus-a-copy\n",
      "  vaccination_ålder_vuxen[\"Population\"] = vaccination_ålder_vuxen.apply(lambda row: row[\"Antal vaccinerade\"] / row[\"Andel vaccinerade\"], axis = 1)\n"
     ]
    },
    {
     "data": {
      "text/html": [
       "<div>\n",
       "<style scoped>\n",
       "    .dataframe tbody tr th:only-of-type {\n",
       "        vertical-align: middle;\n",
       "    }\n",
       "\n",
       "    .dataframe tbody tr th {\n",
       "        vertical-align: top;\n",
       "    }\n",
       "\n",
       "    .dataframe thead th {\n",
       "        text-align: right;\n",
       "    }\n",
       "</style>\n",
       "<table border=\"1\" class=\"dataframe\">\n",
       "  <thead>\n",
       "    <tr style=\"text-align: right;\">\n",
       "      <th></th>\n",
       "      <th>Region</th>\n",
       "      <th>Åldersgrupp</th>\n",
       "      <th>Antal vaccinerade</th>\n",
       "      <th>Andel vaccinerade</th>\n",
       "      <th>Vaccinationsstatus</th>\n",
       "      <th>Population</th>\n",
       "    </tr>\n",
       "  </thead>\n",
       "  <tbody>\n",
       "    <tr>\n",
       "      <th>23</th>\n",
       "      <td>Stockholm</td>\n",
       "      <td>16-17</td>\n",
       "      <td>35496</td>\n",
       "      <td>0.641405</td>\n",
       "      <td>Minst 1 dos</td>\n",
       "      <td>55341.0</td>\n",
       "    </tr>\n",
       "    <tr>\n",
       "      <th>24</th>\n",
       "      <td>Stockholm</td>\n",
       "      <td>18-29</td>\n",
       "      <td>244594</td>\n",
       "      <td>0.713703</td>\n",
       "      <td>Minst 1 dos</td>\n",
       "      <td>342711.0</td>\n",
       "    </tr>\n",
       "    <tr>\n",
       "      <th>25</th>\n",
       "      <td>Stockholm</td>\n",
       "      <td>30-39</td>\n",
       "      <td>280144</td>\n",
       "      <td>0.740391</td>\n",
       "      <td>Minst 1 dos</td>\n",
       "      <td>378373.0</td>\n",
       "    </tr>\n",
       "    <tr>\n",
       "      <th>26</th>\n",
       "      <td>Stockholm</td>\n",
       "      <td>40-49</td>\n",
       "      <td>272736</td>\n",
       "      <td>0.811864</td>\n",
       "      <td>Minst 1 dos</td>\n",
       "      <td>335938.0</td>\n",
       "    </tr>\n",
       "    <tr>\n",
       "      <th>27</th>\n",
       "      <td>Stockholm</td>\n",
       "      <td>50-59</td>\n",
       "      <td>269307</td>\n",
       "      <td>0.869490</td>\n",
       "      <td>Minst 1 dos</td>\n",
       "      <td>309730.0</td>\n",
       "    </tr>\n",
       "  </tbody>\n",
       "</table>\n",
       "</div>"
      ],
      "text/plain": [
       "       Region Åldersgrupp  Antal vaccinerade  Andel vaccinerade  \\\n",
       "23  Stockholm       16-17              35496           0.641405   \n",
       "24  Stockholm       18-29             244594           0.713703   \n",
       "25  Stockholm       30-39             280144           0.740391   \n",
       "26  Stockholm       40-49             272736           0.811864   \n",
       "27  Stockholm       50-59             269307           0.869490   \n",
       "\n",
       "   Vaccinationsstatus  Population  \n",
       "23        Minst 1 dos     55341.0  \n",
       "24        Minst 1 dos    342711.0  \n",
       "25        Minst 1 dos    378373.0  \n",
       "26        Minst 1 dos    335938.0  \n",
       "27        Minst 1 dos    309730.0  "
      ]
     },
     "execution_count": 6,
     "metadata": {},
     "output_type": "execute_result"
    }
   ],
   "source": [
    "vaccination_ålder_vuxen = vaccination_ålder[vaccination_ålder['Åldersgrupp'] != \"12-15\"]\n",
    "vaccination_ålder_vuxen[\"Population\"] = vaccination_ålder_vuxen.apply(lambda row: row[\"Antal vaccinerade\"] / row[\"Andel vaccinerade\"], axis = 1)\n",
    "\n",
    "vaccination_ålder_vuxen.head()"
   ]
  },
  {
   "cell_type": "markdown",
   "metadata": {},
   "source": [
    "## d)"
   ]
  },
  {
   "cell_type": "code",
   "execution_count": 7,
   "metadata": {},
   "outputs": [
    {
     "name": "stdout",
     "output_type": "stream",
     "text": [
      "Sveriges befolkining består av 10379295 invånare.\n",
      "Av dessa är 1837798.0 under 16, varav 1344078.0 är även under tolv. Det finns 8541497.0 vuxna.\n"
     ]
    }
   ],
   "source": [
    "total_12_15 = vaccination_ålder_barn[\"Population\"].sum()\n",
    "total_vuxen = vaccination_ålder_vuxen[\"Population\"].sum()\n",
    "sveriges_population = 10379295\n",
    "\n",
    "total_under_12 = sveriges_population - total_12_15 - total_vuxen\n",
    "total_under_16 = total_under_12 + total_12_15\n",
    "print(f\"Sveriges befolkining består av {sveriges_population} invånare.\\nAv dessa är {total_under_16} under 16, varav {total_under_12} är även under tolv. Det finns {total_vuxen} vuxna.\")\n",
    "\n"
   ]
  },
  {
   "cell_type": "code",
   "execution_count": 78,
   "metadata": {},
   "outputs": [
    {
     "name": "stdout",
     "output_type": "stream",
     "text": [
      "<class 'pandas.core.frame.DataFrame'>\n",
      "Int64Index: 42 entries, 32 to 483\n",
      "Data columns (total 5 columns):\n",
      " #   Column              Non-Null Count  Dtype  \n",
      "---  ------              --------------  -----  \n",
      " 0   Region              42 non-null     object \n",
      " 1   Åldersgrupp         42 non-null     object \n",
      " 2   Antal vaccinerade   42 non-null     int64  \n",
      " 3   Andel vaccinerade   42 non-null     float64\n",
      " 4   Vaccinationsstatus  42 non-null     object \n",
      "dtypes: float64(1), int64(1), object(3)\n",
      "memory usage: 2.0+ KB\n"
     ]
    }
   ],
   "source": [
    "vaccination_ålder_uppföljning = pd.read_excel(path, sheet_name=\"Vaccinerade ålder\")\n",
    "vaccination_ålder_uppföljning = vaccination_ålder_uppföljning[vaccination_ålder_uppföljning['Region'] != \"| Sverige |\"] # Tar bort hela landet från regioner\n",
    "vaccination_ålder_uppföljning = vaccination_ålder_uppföljning[vaccination_ålder_uppföljning['Åldersgrupp'] == \"Totalt\"] # Behåller endast totals\n",
    "vaccination_ålder_uppföljning.info()\n"
   ]
  },
  {
   "cell_type": "code",
   "execution_count": 79,
   "metadata": {},
   "outputs": [
    {
     "data": {
      "text/html": [
       "<div>\n",
       "<style scoped>\n",
       "    .dataframe tbody tr th:only-of-type {\n",
       "        vertical-align: middle;\n",
       "    }\n",
       "\n",
       "    .dataframe tbody tr th {\n",
       "        vertical-align: top;\n",
       "    }\n",
       "\n",
       "    .dataframe thead th {\n",
       "        text-align: right;\n",
       "    }\n",
       "</style>\n",
       "<table border=\"1\" class=\"dataframe\">\n",
       "  <thead>\n",
       "    <tr style=\"text-align: right;\">\n",
       "      <th></th>\n",
       "      <th>Region</th>\n",
       "      <th>Åldersgrupp</th>\n",
       "      <th>Antal vaccinerade</th>\n",
       "      <th>Andel vaccinerade</th>\n",
       "      <th>Vaccinationsstatus</th>\n",
       "    </tr>\n",
       "  </thead>\n",
       "  <tbody>\n",
       "    <tr>\n",
       "      <th>32</th>\n",
       "      <td>Stockholm</td>\n",
       "      <td>Totalt</td>\n",
       "      <td>1602377</td>\n",
       "      <td>0.774712</td>\n",
       "      <td>Minst 1 dos</td>\n",
       "    </tr>\n",
       "    <tr>\n",
       "      <th>43</th>\n",
       "      <td>Stockholm</td>\n",
       "      <td>Totalt</td>\n",
       "      <td>1459211</td>\n",
       "      <td>0.705495</td>\n",
       "      <td>Färdigvaccinerade</td>\n",
       "    </tr>\n",
       "    <tr>\n",
       "      <th>54</th>\n",
       "      <td>Uppsala</td>\n",
       "      <td>Totalt</td>\n",
       "      <td>287332</td>\n",
       "      <td>0.850898</td>\n",
       "      <td>Minst 1 dos</td>\n",
       "    </tr>\n",
       "    <tr>\n",
       "      <th>65</th>\n",
       "      <td>Uppsala</td>\n",
       "      <td>Totalt</td>\n",
       "      <td>271186</td>\n",
       "      <td>0.803083</td>\n",
       "      <td>Färdigvaccinerade</td>\n",
       "    </tr>\n",
       "    <tr>\n",
       "      <th>76</th>\n",
       "      <td>Södermanland</td>\n",
       "      <td>Totalt</td>\n",
       "      <td>211988</td>\n",
       "      <td>0.815793</td>\n",
       "      <td>Minst 1 dos</td>\n",
       "    </tr>\n",
       "    <tr>\n",
       "      <th>87</th>\n",
       "      <td>Södermanland</td>\n",
       "      <td>Totalt</td>\n",
       "      <td>198288</td>\n",
       "      <td>0.763072</td>\n",
       "      <td>Färdigvaccinerade</td>\n",
       "    </tr>\n",
       "    <tr>\n",
       "      <th>98</th>\n",
       "      <td>Östergötland</td>\n",
       "      <td>Totalt</td>\n",
       "      <td>342033</td>\n",
       "      <td>0.838470</td>\n",
       "      <td>Minst 1 dos</td>\n",
       "    </tr>\n",
       "    <tr>\n",
       "      <th>109</th>\n",
       "      <td>Östergötland</td>\n",
       "      <td>Totalt</td>\n",
       "      <td>322659</td>\n",
       "      <td>0.790976</td>\n",
       "      <td>Färdigvaccinerade</td>\n",
       "    </tr>\n",
       "    <tr>\n",
       "      <th>120</th>\n",
       "      <td>Jönköping</td>\n",
       "      <td>Totalt</td>\n",
       "      <td>258977</td>\n",
       "      <td>0.819428</td>\n",
       "      <td>Minst 1 dos</td>\n",
       "    </tr>\n",
       "    <tr>\n",
       "      <th>131</th>\n",
       "      <td>Jönköping</td>\n",
       "      <td>Totalt</td>\n",
       "      <td>238751</td>\n",
       "      <td>0.755431</td>\n",
       "      <td>Färdigvaccinerade</td>\n",
       "    </tr>\n",
       "    <tr>\n",
       "      <th>142</th>\n",
       "      <td>Kronoberg</td>\n",
       "      <td>Totalt</td>\n",
       "      <td>138682</td>\n",
       "      <td>0.791261</td>\n",
       "      <td>Minst 1 dos</td>\n",
       "    </tr>\n",
       "    <tr>\n",
       "      <th>153</th>\n",
       "      <td>Kronoberg</td>\n",
       "      <td>Totalt</td>\n",
       "      <td>130941</td>\n",
       "      <td>0.747094</td>\n",
       "      <td>Färdigvaccinerade</td>\n",
       "    </tr>\n",
       "    <tr>\n",
       "      <th>164</th>\n",
       "      <td>Kalmar</td>\n",
       "      <td>Totalt</td>\n",
       "      <td>178082</td>\n",
       "      <td>0.823440</td>\n",
       "      <td>Minst 1 dos</td>\n",
       "    </tr>\n",
       "    <tr>\n",
       "      <th>175</th>\n",
       "      <td>Kalmar</td>\n",
       "      <td>Totalt</td>\n",
       "      <td>170699</td>\n",
       "      <td>0.789301</td>\n",
       "      <td>Färdigvaccinerade</td>\n",
       "    </tr>\n",
       "    <tr>\n",
       "      <th>186</th>\n",
       "      <td>Gotland</td>\n",
       "      <td>Totalt</td>\n",
       "      <td>46951</td>\n",
       "      <td>0.878311</td>\n",
       "      <td>Minst 1 dos</td>\n",
       "    </tr>\n",
       "    <tr>\n",
       "      <th>197</th>\n",
       "      <td>Gotland</td>\n",
       "      <td>Totalt</td>\n",
       "      <td>44373</td>\n",
       "      <td>0.830085</td>\n",
       "      <td>Färdigvaccinerade</td>\n",
       "    </tr>\n",
       "    <tr>\n",
       "      <th>208</th>\n",
       "      <td>Blekinge</td>\n",
       "      <td>Totalt</td>\n",
       "      <td>114747</td>\n",
       "      <td>0.819621</td>\n",
       "      <td>Minst 1 dos</td>\n",
       "    </tr>\n",
       "    <tr>\n",
       "      <th>219</th>\n",
       "      <td>Blekinge</td>\n",
       "      <td>Totalt</td>\n",
       "      <td>110509</td>\n",
       "      <td>0.789350</td>\n",
       "      <td>Färdigvaccinerade</td>\n",
       "    </tr>\n",
       "    <tr>\n",
       "      <th>230</th>\n",
       "      <td>Skåne</td>\n",
       "      <td>Totalt</td>\n",
       "      <td>934807</td>\n",
       "      <td>0.776502</td>\n",
       "      <td>Minst 1 dos</td>\n",
       "    </tr>\n",
       "    <tr>\n",
       "      <th>241</th>\n",
       "      <td>Skåne</td>\n",
       "      <td>Totalt</td>\n",
       "      <td>875752</td>\n",
       "      <td>0.727447</td>\n",
       "      <td>Färdigvaccinerade</td>\n",
       "    </tr>\n",
       "    <tr>\n",
       "      <th>252</th>\n",
       "      <td>Halland</td>\n",
       "      <td>Totalt</td>\n",
       "      <td>239550</td>\n",
       "      <td>0.818381</td>\n",
       "      <td>Minst 1 dos</td>\n",
       "    </tr>\n",
       "    <tr>\n",
       "      <th>263</th>\n",
       "      <td>Halland</td>\n",
       "      <td>Totalt</td>\n",
       "      <td>230682</td>\n",
       "      <td>0.788085</td>\n",
       "      <td>Färdigvaccinerade</td>\n",
       "    </tr>\n",
       "    <tr>\n",
       "      <th>274</th>\n",
       "      <td>Västra Götaland</td>\n",
       "      <td>Totalt</td>\n",
       "      <td>1201669</td>\n",
       "      <td>0.795671</td>\n",
       "      <td>Minst 1 dos</td>\n",
       "    </tr>\n",
       "    <tr>\n",
       "      <th>285</th>\n",
       "      <td>Västra Götaland</td>\n",
       "      <td>Totalt</td>\n",
       "      <td>1109137</td>\n",
       "      <td>0.734402</td>\n",
       "      <td>Färdigvaccinerade</td>\n",
       "    </tr>\n",
       "    <tr>\n",
       "      <th>296</th>\n",
       "      <td>Värmland</td>\n",
       "      <td>Totalt</td>\n",
       "      <td>212396</td>\n",
       "      <td>0.852880</td>\n",
       "      <td>Minst 1 dos</td>\n",
       "    </tr>\n",
       "    <tr>\n",
       "      <th>307</th>\n",
       "      <td>Värmland</td>\n",
       "      <td>Totalt</td>\n",
       "      <td>206447</td>\n",
       "      <td>0.828991</td>\n",
       "      <td>Färdigvaccinerade</td>\n",
       "    </tr>\n",
       "    <tr>\n",
       "      <th>318</th>\n",
       "      <td>Örebro</td>\n",
       "      <td>Totalt</td>\n",
       "      <td>217680</td>\n",
       "      <td>0.817636</td>\n",
       "      <td>Minst 1 dos</td>\n",
       "    </tr>\n",
       "    <tr>\n",
       "      <th>329</th>\n",
       "      <td>Örebro</td>\n",
       "      <td>Totalt</td>\n",
       "      <td>207962</td>\n",
       "      <td>0.781134</td>\n",
       "      <td>Färdigvaccinerade</td>\n",
       "    </tr>\n",
       "    <tr>\n",
       "      <th>340</th>\n",
       "      <td>Västmanland</td>\n",
       "      <td>Totalt</td>\n",
       "      <td>194073</td>\n",
       "      <td>0.804128</td>\n",
       "      <td>Minst 1 dos</td>\n",
       "    </tr>\n",
       "    <tr>\n",
       "      <th>351</th>\n",
       "      <td>Västmanland</td>\n",
       "      <td>Totalt</td>\n",
       "      <td>182815</td>\n",
       "      <td>0.757481</td>\n",
       "      <td>Färdigvaccinerade</td>\n",
       "    </tr>\n",
       "    <tr>\n",
       "      <th>362</th>\n",
       "      <td>Dalarna</td>\n",
       "      <td>Totalt</td>\n",
       "      <td>210391</td>\n",
       "      <td>0.833955</td>\n",
       "      <td>Minst 1 dos</td>\n",
       "    </tr>\n",
       "    <tr>\n",
       "      <th>373</th>\n",
       "      <td>Dalarna</td>\n",
       "      <td>Totalt</td>\n",
       "      <td>198716</td>\n",
       "      <td>0.787677</td>\n",
       "      <td>Färdigvaccinerade</td>\n",
       "    </tr>\n",
       "    <tr>\n",
       "      <th>384</th>\n",
       "      <td>Gävleborg</td>\n",
       "      <td>Totalt</td>\n",
       "      <td>207051</td>\n",
       "      <td>0.818539</td>\n",
       "      <td>Minst 1 dos</td>\n",
       "    </tr>\n",
       "    <tr>\n",
       "      <th>395</th>\n",
       "      <td>Gävleborg</td>\n",
       "      <td>Totalt</td>\n",
       "      <td>193876</td>\n",
       "      <td>0.766454</td>\n",
       "      <td>Färdigvaccinerade</td>\n",
       "    </tr>\n",
       "    <tr>\n",
       "      <th>406</th>\n",
       "      <td>Västernorrland</td>\n",
       "      <td>Totalt</td>\n",
       "      <td>179635</td>\n",
       "      <td>0.833426</td>\n",
       "      <td>Minst 1 dos</td>\n",
       "    </tr>\n",
       "    <tr>\n",
       "      <th>417</th>\n",
       "      <td>Västernorrland</td>\n",
       "      <td>Totalt</td>\n",
       "      <td>174346</td>\n",
       "      <td>0.808888</td>\n",
       "      <td>Färdigvaccinerade</td>\n",
       "    </tr>\n",
       "    <tr>\n",
       "      <th>428</th>\n",
       "      <td>Jämtland</td>\n",
       "      <td>Totalt</td>\n",
       "      <td>97443</td>\n",
       "      <td>0.846962</td>\n",
       "      <td>Minst 1 dos</td>\n",
       "    </tr>\n",
       "    <tr>\n",
       "      <th>439</th>\n",
       "      <td>Jämtland</td>\n",
       "      <td>Totalt</td>\n",
       "      <td>90428</td>\n",
       "      <td>0.785989</td>\n",
       "      <td>Färdigvaccinerade</td>\n",
       "    </tr>\n",
       "    <tr>\n",
       "      <th>450</th>\n",
       "      <td>Västerbotten</td>\n",
       "      <td>Totalt</td>\n",
       "      <td>207007</td>\n",
       "      <td>0.864366</td>\n",
       "      <td>Minst 1 dos</td>\n",
       "    </tr>\n",
       "    <tr>\n",
       "      <th>461</th>\n",
       "      <td>Västerbotten</td>\n",
       "      <td>Totalt</td>\n",
       "      <td>196370</td>\n",
       "      <td>0.819951</td>\n",
       "      <td>Färdigvaccinerade</td>\n",
       "    </tr>\n",
       "    <tr>\n",
       "      <th>472</th>\n",
       "      <td>Norrbotten</td>\n",
       "      <td>Totalt</td>\n",
       "      <td>191178</td>\n",
       "      <td>0.862685</td>\n",
       "      <td>Minst 1 dos</td>\n",
       "    </tr>\n",
       "    <tr>\n",
       "      <th>483</th>\n",
       "      <td>Norrbotten</td>\n",
       "      <td>Totalt</td>\n",
       "      <td>179138</td>\n",
       "      <td>0.808355</td>\n",
       "      <td>Färdigvaccinerade</td>\n",
       "    </tr>\n",
       "  </tbody>\n",
       "</table>\n",
       "</div>"
      ],
      "text/plain": [
       "              Region Åldersgrupp  Antal vaccinerade  Andel vaccinerade  \\\n",
       "32         Stockholm      Totalt            1602377           0.774712   \n",
       "43         Stockholm      Totalt            1459211           0.705495   \n",
       "54           Uppsala      Totalt             287332           0.850898   \n",
       "65           Uppsala      Totalt             271186           0.803083   \n",
       "76      Södermanland      Totalt             211988           0.815793   \n",
       "87      Södermanland      Totalt             198288           0.763072   \n",
       "98      Östergötland      Totalt             342033           0.838470   \n",
       "109     Östergötland      Totalt             322659           0.790976   \n",
       "120        Jönköping      Totalt             258977           0.819428   \n",
       "131        Jönköping      Totalt             238751           0.755431   \n",
       "142        Kronoberg      Totalt             138682           0.791261   \n",
       "153        Kronoberg      Totalt             130941           0.747094   \n",
       "164           Kalmar      Totalt             178082           0.823440   \n",
       "175           Kalmar      Totalt             170699           0.789301   \n",
       "186          Gotland      Totalt              46951           0.878311   \n",
       "197          Gotland      Totalt              44373           0.830085   \n",
       "208         Blekinge      Totalt             114747           0.819621   \n",
       "219         Blekinge      Totalt             110509           0.789350   \n",
       "230            Skåne      Totalt             934807           0.776502   \n",
       "241            Skåne      Totalt             875752           0.727447   \n",
       "252          Halland      Totalt             239550           0.818381   \n",
       "263          Halland      Totalt             230682           0.788085   \n",
       "274  Västra Götaland      Totalt            1201669           0.795671   \n",
       "285  Västra Götaland      Totalt            1109137           0.734402   \n",
       "296         Värmland      Totalt             212396           0.852880   \n",
       "307         Värmland      Totalt             206447           0.828991   \n",
       "318           Örebro      Totalt             217680           0.817636   \n",
       "329           Örebro      Totalt             207962           0.781134   \n",
       "340      Västmanland      Totalt             194073           0.804128   \n",
       "351      Västmanland      Totalt             182815           0.757481   \n",
       "362          Dalarna      Totalt             210391           0.833955   \n",
       "373          Dalarna      Totalt             198716           0.787677   \n",
       "384        Gävleborg      Totalt             207051           0.818539   \n",
       "395        Gävleborg      Totalt             193876           0.766454   \n",
       "406   Västernorrland      Totalt             179635           0.833426   \n",
       "417   Västernorrland      Totalt             174346           0.808888   \n",
       "428         Jämtland      Totalt              97443           0.846962   \n",
       "439         Jämtland      Totalt              90428           0.785989   \n",
       "450     Västerbotten      Totalt             207007           0.864366   \n",
       "461     Västerbotten      Totalt             196370           0.819951   \n",
       "472       Norrbotten      Totalt             191178           0.862685   \n",
       "483       Norrbotten      Totalt             179138           0.808355   \n",
       "\n",
       "    Vaccinationsstatus  \n",
       "32         Minst 1 dos  \n",
       "43   Färdigvaccinerade  \n",
       "54         Minst 1 dos  \n",
       "65   Färdigvaccinerade  \n",
       "76         Minst 1 dos  \n",
       "87   Färdigvaccinerade  \n",
       "98         Minst 1 dos  \n",
       "109  Färdigvaccinerade  \n",
       "120        Minst 1 dos  \n",
       "131  Färdigvaccinerade  \n",
       "142        Minst 1 dos  \n",
       "153  Färdigvaccinerade  \n",
       "164        Minst 1 dos  \n",
       "175  Färdigvaccinerade  \n",
       "186        Minst 1 dos  \n",
       "197  Färdigvaccinerade  \n",
       "208        Minst 1 dos  \n",
       "219  Färdigvaccinerade  \n",
       "230        Minst 1 dos  \n",
       "241  Färdigvaccinerade  \n",
       "252        Minst 1 dos  \n",
       "263  Färdigvaccinerade  \n",
       "274        Minst 1 dos  \n",
       "285  Färdigvaccinerade  \n",
       "296        Minst 1 dos  \n",
       "307  Färdigvaccinerade  \n",
       "318        Minst 1 dos  \n",
       "329  Färdigvaccinerade  \n",
       "340        Minst 1 dos  \n",
       "351  Färdigvaccinerade  \n",
       "362        Minst 1 dos  \n",
       "373  Färdigvaccinerade  \n",
       "384        Minst 1 dos  \n",
       "395  Färdigvaccinerade  \n",
       "406        Minst 1 dos  \n",
       "417  Färdigvaccinerade  \n",
       "428        Minst 1 dos  \n",
       "439  Färdigvaccinerade  \n",
       "450        Minst 1 dos  \n",
       "461  Färdigvaccinerade  \n",
       "472        Minst 1 dos  \n",
       "483  Färdigvaccinerade  "
      ]
     },
     "execution_count": 79,
     "metadata": {},
     "output_type": "execute_result"
    }
   ],
   "source": [
    "#vaccination_ålder_uppföljning[\"Population\"] = vaccination_ålder_uppföljning.apply(lambda row: row[\"Antal vaccinerade\"] / row[\"Andel vaccinerade\"], axis = 1)\n",
    "#vaccination_ålder_lan_total_population = vaccination_ålder_uppföljning.groupby(['Region'])['Population'].sum()\n",
    "vaccination_ålder_uppföljning\n"
   ]
  },
  {
   "cell_type": "code",
   "execution_count": 80,
   "metadata": {},
   "outputs": [],
   "source": [
    "#vaccination_ålder_lan_total = vaccination_ålder_uppföljning.groupby(['Region', 'Vaccinationsstatus'])['Antal vaccinerade'].agg(['sum'])\n",
    "#vaccination_ålder_lan_total\n",
    "\n",
    "\n"
   ]
  },
  {
   "cell_type": "code",
   "execution_count": null,
   "metadata": {},
   "outputs": [],
   "source": [
    "#vaccination_data_to_barplot = vaccination_ålder_lan_total.merge(vaccination_ålder_lan_total_population, how = 'inner', on = 'Region', left_index=False)\n",
    "#vaccination_data_to_barplot[\"Andel\"] = vaccination_data_to_barplot[\"sum\"] / vaccination_data_to_barplot[\"Population\"]\n",
    "#print(vaccination_data_to_barplot.columns)\n",
    "#vaccination_data_to_barplot.reset_index()\n",
    "#vaccination_data_to_barplot\n",
    "\n",
    "\n"
   ]
  },
  {
   "cell_type": "code",
   "execution_count": 111,
   "metadata": {},
   "outputs": [
    {
     "data": {
      "application/vnd.plotly.v1+json": {
       "config": {
        "plotlyServerURL": "https://plot.ly"
       },
       "data": [
        {
         "alignmentgroup": "True",
         "hovertemplate": "Vaccinationsstatus=Minst 1 dos<br>Region=%{x}<br>Andel vaccinerade=%{y}<extra></extra>",
         "legendgroup": "Minst 1 dos",
         "marker": {
          "color": "#636efa",
          "pattern": {
           "shape": ""
          }
         },
         "name": "Minst 1 dos",
         "offsetgroup": "Minst 1 dos",
         "orientation": "v",
         "showlegend": true,
         "textposition": "auto",
         "type": "bar",
         "x": [
          "Stockholm",
          "Uppsala",
          "Södermanland",
          "Östergötland",
          "Jönköping",
          "Kronoberg",
          "Kalmar",
          "Gotland",
          "Blekinge",
          "Skåne",
          "Halland",
          "Västra Götaland",
          "Värmland",
          "Örebro",
          "Västmanland",
          "Dalarna",
          "Gävleborg",
          "Västernorrland",
          "Jämtland",
          "Västerbotten",
          "Norrbotten"
         ],
         "xaxis": "x",
         "y": [
          0.7747123191373224,
          0.8508977407671737,
          0.8157934232552769,
          0.8384703070417356,
          0.8194281845047873,
          0.7912613327095231,
          0.8234396530198922,
          0.8783111343909009,
          0.8196214285714286,
          0.7765016156229493,
          0.8183812074667249,
          0.7956713356260984,
          0.8528795264903587,
          0.8176358125086861,
          0.8041276839060933,
          0.8339549946290049,
          0.8185386950883962,
          0.8334261243956982,
          0.8469621903520208,
          0.8643659442983006,
          0.8626854626186781
         ],
         "yaxis": "y"
        },
        {
         "alignmentgroup": "True",
         "hovertemplate": "Vaccinationsstatus=Färdigvaccinerade<br>Region=%{x}<br>Andel vaccinerade=%{y}<extra></extra>",
         "legendgroup": "Färdigvaccinerade",
         "marker": {
          "color": "#EF553B",
          "pattern": {
           "shape": ""
          }
         },
         "name": "Färdigvaccinerade",
         "offsetgroup": "Färdigvaccinerade",
         "orientation": "v",
         "showlegend": true,
         "textposition": "auto",
         "type": "bar",
         "x": [
          "Stockholm",
          "Uppsala",
          "Södermanland",
          "Östergötland",
          "Jönköping",
          "Kronoberg",
          "Kalmar",
          "Gotland",
          "Blekinge",
          "Skåne",
          "Halland",
          "Västra Götaland",
          "Värmland",
          "Örebro",
          "Västmanland",
          "Dalarna",
          "Gävleborg",
          "Västernorrland",
          "Jämtland",
          "Västerbotten",
          "Norrbotten"
         ],
         "xaxis": "x",
         "y": [
          0.7054948603984527,
          0.8030833834299235,
          0.763071713070751,
          0.7909762824048538,
          0.7554311714117565,
          0.7470944330649809,
          0.7893011384128804,
          0.8300845555222988,
          0.78935,
          0.7274473157400716,
          0.7880852168684578,
          0.7344023339058624,
          0.8289912220821253,
          0.7811336771450357,
          0.7574809609440388,
          0.787677232926776,
          0.7664537145387267,
          0.8088875279533075,
          0.7859887005649717,
          0.8199507286316756,
          0.8083552940327065
         ],
         "yaxis": "y"
        }
       ],
       "layout": {
        "barmode": "group",
        "legend": {
         "title": {
          "text": "Vaccinationsstatus"
         },
         "tracegroupgap": 0
        },
        "margin": {
         "t": 60
        },
        "template": {
         "data": {
          "bar": [
           {
            "error_x": {
             "color": "#2a3f5f"
            },
            "error_y": {
             "color": "#2a3f5f"
            },
            "marker": {
             "line": {
              "color": "#E5ECF6",
              "width": 0.5
             },
             "pattern": {
              "fillmode": "overlay",
              "size": 10,
              "solidity": 0.2
             }
            },
            "type": "bar"
           }
          ],
          "barpolar": [
           {
            "marker": {
             "line": {
              "color": "#E5ECF6",
              "width": 0.5
             },
             "pattern": {
              "fillmode": "overlay",
              "size": 10,
              "solidity": 0.2
             }
            },
            "type": "barpolar"
           }
          ],
          "carpet": [
           {
            "aaxis": {
             "endlinecolor": "#2a3f5f",
             "gridcolor": "white",
             "linecolor": "white",
             "minorgridcolor": "white",
             "startlinecolor": "#2a3f5f"
            },
            "baxis": {
             "endlinecolor": "#2a3f5f",
             "gridcolor": "white",
             "linecolor": "white",
             "minorgridcolor": "white",
             "startlinecolor": "#2a3f5f"
            },
            "type": "carpet"
           }
          ],
          "choropleth": [
           {
            "colorbar": {
             "outlinewidth": 0,
             "ticks": ""
            },
            "type": "choropleth"
           }
          ],
          "contour": [
           {
            "colorbar": {
             "outlinewidth": 0,
             "ticks": ""
            },
            "colorscale": [
             [
              0,
              "#0d0887"
             ],
             [
              0.1111111111111111,
              "#46039f"
             ],
             [
              0.2222222222222222,
              "#7201a8"
             ],
             [
              0.3333333333333333,
              "#9c179e"
             ],
             [
              0.4444444444444444,
              "#bd3786"
             ],
             [
              0.5555555555555556,
              "#d8576b"
             ],
             [
              0.6666666666666666,
              "#ed7953"
             ],
             [
              0.7777777777777778,
              "#fb9f3a"
             ],
             [
              0.8888888888888888,
              "#fdca26"
             ],
             [
              1,
              "#f0f921"
             ]
            ],
            "type": "contour"
           }
          ],
          "contourcarpet": [
           {
            "colorbar": {
             "outlinewidth": 0,
             "ticks": ""
            },
            "type": "contourcarpet"
           }
          ],
          "heatmap": [
           {
            "colorbar": {
             "outlinewidth": 0,
             "ticks": ""
            },
            "colorscale": [
             [
              0,
              "#0d0887"
             ],
             [
              0.1111111111111111,
              "#46039f"
             ],
             [
              0.2222222222222222,
              "#7201a8"
             ],
             [
              0.3333333333333333,
              "#9c179e"
             ],
             [
              0.4444444444444444,
              "#bd3786"
             ],
             [
              0.5555555555555556,
              "#d8576b"
             ],
             [
              0.6666666666666666,
              "#ed7953"
             ],
             [
              0.7777777777777778,
              "#fb9f3a"
             ],
             [
              0.8888888888888888,
              "#fdca26"
             ],
             [
              1,
              "#f0f921"
             ]
            ],
            "type": "heatmap"
           }
          ],
          "heatmapgl": [
           {
            "colorbar": {
             "outlinewidth": 0,
             "ticks": ""
            },
            "colorscale": [
             [
              0,
              "#0d0887"
             ],
             [
              0.1111111111111111,
              "#46039f"
             ],
             [
              0.2222222222222222,
              "#7201a8"
             ],
             [
              0.3333333333333333,
              "#9c179e"
             ],
             [
              0.4444444444444444,
              "#bd3786"
             ],
             [
              0.5555555555555556,
              "#d8576b"
             ],
             [
              0.6666666666666666,
              "#ed7953"
             ],
             [
              0.7777777777777778,
              "#fb9f3a"
             ],
             [
              0.8888888888888888,
              "#fdca26"
             ],
             [
              1,
              "#f0f921"
             ]
            ],
            "type": "heatmapgl"
           }
          ],
          "histogram": [
           {
            "marker": {
             "pattern": {
              "fillmode": "overlay",
              "size": 10,
              "solidity": 0.2
             }
            },
            "type": "histogram"
           }
          ],
          "histogram2d": [
           {
            "colorbar": {
             "outlinewidth": 0,
             "ticks": ""
            },
            "colorscale": [
             [
              0,
              "#0d0887"
             ],
             [
              0.1111111111111111,
              "#46039f"
             ],
             [
              0.2222222222222222,
              "#7201a8"
             ],
             [
              0.3333333333333333,
              "#9c179e"
             ],
             [
              0.4444444444444444,
              "#bd3786"
             ],
             [
              0.5555555555555556,
              "#d8576b"
             ],
             [
              0.6666666666666666,
              "#ed7953"
             ],
             [
              0.7777777777777778,
              "#fb9f3a"
             ],
             [
              0.8888888888888888,
              "#fdca26"
             ],
             [
              1,
              "#f0f921"
             ]
            ],
            "type": "histogram2d"
           }
          ],
          "histogram2dcontour": [
           {
            "colorbar": {
             "outlinewidth": 0,
             "ticks": ""
            },
            "colorscale": [
             [
              0,
              "#0d0887"
             ],
             [
              0.1111111111111111,
              "#46039f"
             ],
             [
              0.2222222222222222,
              "#7201a8"
             ],
             [
              0.3333333333333333,
              "#9c179e"
             ],
             [
              0.4444444444444444,
              "#bd3786"
             ],
             [
              0.5555555555555556,
              "#d8576b"
             ],
             [
              0.6666666666666666,
              "#ed7953"
             ],
             [
              0.7777777777777778,
              "#fb9f3a"
             ],
             [
              0.8888888888888888,
              "#fdca26"
             ],
             [
              1,
              "#f0f921"
             ]
            ],
            "type": "histogram2dcontour"
           }
          ],
          "mesh3d": [
           {
            "colorbar": {
             "outlinewidth": 0,
             "ticks": ""
            },
            "type": "mesh3d"
           }
          ],
          "parcoords": [
           {
            "line": {
             "colorbar": {
              "outlinewidth": 0,
              "ticks": ""
             }
            },
            "type": "parcoords"
           }
          ],
          "pie": [
           {
            "automargin": true,
            "type": "pie"
           }
          ],
          "scatter": [
           {
            "marker": {
             "colorbar": {
              "outlinewidth": 0,
              "ticks": ""
             }
            },
            "type": "scatter"
           }
          ],
          "scatter3d": [
           {
            "line": {
             "colorbar": {
              "outlinewidth": 0,
              "ticks": ""
             }
            },
            "marker": {
             "colorbar": {
              "outlinewidth": 0,
              "ticks": ""
             }
            },
            "type": "scatter3d"
           }
          ],
          "scattercarpet": [
           {
            "marker": {
             "colorbar": {
              "outlinewidth": 0,
              "ticks": ""
             }
            },
            "type": "scattercarpet"
           }
          ],
          "scattergeo": [
           {
            "marker": {
             "colorbar": {
              "outlinewidth": 0,
              "ticks": ""
             }
            },
            "type": "scattergeo"
           }
          ],
          "scattergl": [
           {
            "marker": {
             "colorbar": {
              "outlinewidth": 0,
              "ticks": ""
             }
            },
            "type": "scattergl"
           }
          ],
          "scattermapbox": [
           {
            "marker": {
             "colorbar": {
              "outlinewidth": 0,
              "ticks": ""
             }
            },
            "type": "scattermapbox"
           }
          ],
          "scatterpolar": [
           {
            "marker": {
             "colorbar": {
              "outlinewidth": 0,
              "ticks": ""
             }
            },
            "type": "scatterpolar"
           }
          ],
          "scatterpolargl": [
           {
            "marker": {
             "colorbar": {
              "outlinewidth": 0,
              "ticks": ""
             }
            },
            "type": "scatterpolargl"
           }
          ],
          "scatterternary": [
           {
            "marker": {
             "colorbar": {
              "outlinewidth": 0,
              "ticks": ""
             }
            },
            "type": "scatterternary"
           }
          ],
          "surface": [
           {
            "colorbar": {
             "outlinewidth": 0,
             "ticks": ""
            },
            "colorscale": [
             [
              0,
              "#0d0887"
             ],
             [
              0.1111111111111111,
              "#46039f"
             ],
             [
              0.2222222222222222,
              "#7201a8"
             ],
             [
              0.3333333333333333,
              "#9c179e"
             ],
             [
              0.4444444444444444,
              "#bd3786"
             ],
             [
              0.5555555555555556,
              "#d8576b"
             ],
             [
              0.6666666666666666,
              "#ed7953"
             ],
             [
              0.7777777777777778,
              "#fb9f3a"
             ],
             [
              0.8888888888888888,
              "#fdca26"
             ],
             [
              1,
              "#f0f921"
             ]
            ],
            "type": "surface"
           }
          ],
          "table": [
           {
            "cells": {
             "fill": {
              "color": "#EBF0F8"
             },
             "line": {
              "color": "white"
             }
            },
            "header": {
             "fill": {
              "color": "#C8D4E3"
             },
             "line": {
              "color": "white"
             }
            },
            "type": "table"
           }
          ]
         },
         "layout": {
          "annotationdefaults": {
           "arrowcolor": "#2a3f5f",
           "arrowhead": 0,
           "arrowwidth": 1
          },
          "autotypenumbers": "strict",
          "coloraxis": {
           "colorbar": {
            "outlinewidth": 0,
            "ticks": ""
           }
          },
          "colorscale": {
           "diverging": [
            [
             0,
             "#8e0152"
            ],
            [
             0.1,
             "#c51b7d"
            ],
            [
             0.2,
             "#de77ae"
            ],
            [
             0.3,
             "#f1b6da"
            ],
            [
             0.4,
             "#fde0ef"
            ],
            [
             0.5,
             "#f7f7f7"
            ],
            [
             0.6,
             "#e6f5d0"
            ],
            [
             0.7,
             "#b8e186"
            ],
            [
             0.8,
             "#7fbc41"
            ],
            [
             0.9,
             "#4d9221"
            ],
            [
             1,
             "#276419"
            ]
           ],
           "sequential": [
            [
             0,
             "#0d0887"
            ],
            [
             0.1111111111111111,
             "#46039f"
            ],
            [
             0.2222222222222222,
             "#7201a8"
            ],
            [
             0.3333333333333333,
             "#9c179e"
            ],
            [
             0.4444444444444444,
             "#bd3786"
            ],
            [
             0.5555555555555556,
             "#d8576b"
            ],
            [
             0.6666666666666666,
             "#ed7953"
            ],
            [
             0.7777777777777778,
             "#fb9f3a"
            ],
            [
             0.8888888888888888,
             "#fdca26"
            ],
            [
             1,
             "#f0f921"
            ]
           ],
           "sequentialminus": [
            [
             0,
             "#0d0887"
            ],
            [
             0.1111111111111111,
             "#46039f"
            ],
            [
             0.2222222222222222,
             "#7201a8"
            ],
            [
             0.3333333333333333,
             "#9c179e"
            ],
            [
             0.4444444444444444,
             "#bd3786"
            ],
            [
             0.5555555555555556,
             "#d8576b"
            ],
            [
             0.6666666666666666,
             "#ed7953"
            ],
            [
             0.7777777777777778,
             "#fb9f3a"
            ],
            [
             0.8888888888888888,
             "#fdca26"
            ],
            [
             1,
             "#f0f921"
            ]
           ]
          },
          "colorway": [
           "#636efa",
           "#EF553B",
           "#00cc96",
           "#ab63fa",
           "#FFA15A",
           "#19d3f3",
           "#FF6692",
           "#B6E880",
           "#FF97FF",
           "#FECB52"
          ],
          "font": {
           "color": "#2a3f5f"
          },
          "geo": {
           "bgcolor": "white",
           "lakecolor": "white",
           "landcolor": "#E5ECF6",
           "showlakes": true,
           "showland": true,
           "subunitcolor": "white"
          },
          "hoverlabel": {
           "align": "left"
          },
          "hovermode": "closest",
          "mapbox": {
           "style": "light"
          },
          "paper_bgcolor": "white",
          "plot_bgcolor": "#E5ECF6",
          "polar": {
           "angularaxis": {
            "gridcolor": "white",
            "linecolor": "white",
            "ticks": ""
           },
           "bgcolor": "#E5ECF6",
           "radialaxis": {
            "gridcolor": "white",
            "linecolor": "white",
            "ticks": ""
           }
          },
          "scene": {
           "xaxis": {
            "backgroundcolor": "#E5ECF6",
            "gridcolor": "white",
            "gridwidth": 2,
            "linecolor": "white",
            "showbackground": true,
            "ticks": "",
            "zerolinecolor": "white"
           },
           "yaxis": {
            "backgroundcolor": "#E5ECF6",
            "gridcolor": "white",
            "gridwidth": 2,
            "linecolor": "white",
            "showbackground": true,
            "ticks": "",
            "zerolinecolor": "white"
           },
           "zaxis": {
            "backgroundcolor": "#E5ECF6",
            "gridcolor": "white",
            "gridwidth": 2,
            "linecolor": "white",
            "showbackground": true,
            "ticks": "",
            "zerolinecolor": "white"
           }
          },
          "shapedefaults": {
           "line": {
            "color": "#2a3f5f"
           }
          },
          "ternary": {
           "aaxis": {
            "gridcolor": "white",
            "linecolor": "white",
            "ticks": ""
           },
           "baxis": {
            "gridcolor": "white",
            "linecolor": "white",
            "ticks": ""
           },
           "bgcolor": "#E5ECF6",
           "caxis": {
            "gridcolor": "white",
            "linecolor": "white",
            "ticks": ""
           }
          },
          "title": {
           "x": 0.05
          },
          "xaxis": {
           "automargin": true,
           "gridcolor": "white",
           "linecolor": "white",
           "ticks": "",
           "title": {
            "standoff": 15
           },
           "zerolinecolor": "white",
           "zerolinewidth": 2
          },
          "yaxis": {
           "automargin": true,
           "gridcolor": "white",
           "linecolor": "white",
           "ticks": "",
           "title": {
            "standoff": 15
           },
           "zerolinecolor": "white",
           "zerolinewidth": 2
          }
         }
        },
        "xaxis": {
         "anchor": "y",
         "categoryorder": "total descending",
         "domain": [
          0,
          1
         ],
         "title": {
          "text": "Region"
         }
        },
        "yaxis": {
         "anchor": "x",
         "domain": [
          0,
          1
         ],
         "title": {
          "text": "Andel vaccinerade"
         }
        }
       }
      }
     },
     "metadata": {},
     "output_type": "display_data"
    }
   ],
   "source": [
    "import plotly_express as px \n",
    "fig = px.bar(vaccination_ålder_uppföljning, x='Region', y='Andel vaccinerade', color='Vaccinationsstatus', barmode='group')\n",
    "fig.update_layout(xaxis={'categoryorder':'total descending'})\n",
    "fig.show()\n"
   ]
  },
  {
   "cell_type": "code",
   "execution_count": 108,
   "metadata": {},
   "outputs": [
    {
     "data": {
      "text/plain": [
       "Region           Vaccinationsstatus\n",
       "Blekinge         Färdigvaccinerade      221006\n",
       "                 Minst 1 dos            229458\n",
       "Dalarna          Färdigvaccinerade      397404\n",
       "                 Minst 1 dos            417987\n",
       "Gotland          Färdigvaccinerade       88732\n",
       "                 Minst 1 dos             93094\n",
       "Gävleborg        Färdigvaccinerade      387729\n",
       "                 Minst 1 dos            412614\n",
       "Halland          Färdigvaccinerade      461316\n",
       "                 Minst 1 dos            478950\n",
       "Jämtland         Färdigvaccinerade      180834\n",
       "                 Minst 1 dos            192800\n",
       "Jönköping        Färdigvaccinerade      477461\n",
       "                 Minst 1 dos            511892\n",
       "Kalmar           Färdigvaccinerade      341369\n",
       "                 Minst 1 dos            356112\n",
       "Kronoberg        Färdigvaccinerade      261871\n",
       "                 Minst 1 dos            276936\n",
       "Norrbotten       Färdigvaccinerade      358256\n",
       "                 Minst 1 dos            379782\n",
       "Skåne            Färdigvaccinerade     1751386\n",
       "                 Minst 1 dos           1859208\n",
       "Stockholm        Färdigvaccinerade     2918306\n",
       "                 Minst 1 dos           3187272\n",
       "Södermanland     Färdigvaccinerade      396548\n",
       "                 Minst 1 dos            421690\n",
       "Uppsala          Färdigvaccinerade      542330\n",
       "                 Minst 1 dos            571470\n",
       "Värmland         Färdigvaccinerade      412874\n",
       "                 Minst 1 dos            424755\n",
       "Västerbotten     Färdigvaccinerade      392716\n",
       "                 Minst 1 dos            413230\n",
       "Västernorrland   Färdigvaccinerade      348677\n",
       "                 Minst 1 dos            359236\n",
       "Västmanland      Färdigvaccinerade      365603\n",
       "                 Minst 1 dos            387073\n",
       "Västra Götaland  Färdigvaccinerade     2218135\n",
       "                 Minst 1 dos           2399979\n",
       "Örebro           Färdigvaccinerade      415888\n",
       "                 Minst 1 dos            434405\n",
       "Östergötland     Färdigvaccinerade      645291\n",
       "                 Minst 1 dos            678725\n",
       "Name: Antal vaccinerade, dtype: int64"
      ]
     },
     "execution_count": 108,
     "metadata": {},
     "output_type": "execute_result"
    }
   ],
   "source": [
    "vaccination_ålder_toplot = pd.read_excel(path, sheet_name=\"Vaccinerade ålder\")\n",
    "vaccination_ålder_toplot = vaccination_ålder_toplot[vaccination_ålder_toplot['Region'] != \"| Sverige |\"]\n",
    "vaccination_ålder_toplot = vaccination_ålder_toplot[vaccination_ålder_toplot['Åldersgrupp'] != \"12-15\"] # tar bort 12-15 från statistiken\n",
    "vaccination_ålder_toplot = vaccination_ålder_toplot.groupby(['Region', 'Vaccinationsstatus'])['Antal vaccinerade'].sum()\n",
    "vaccination_ålder_toplot"
   ]
  },
  {
   "cell_type": "code",
   "execution_count": 109,
   "metadata": {},
   "outputs": [
    {
     "data": {
      "application/vnd.plotly.v1+json": {
       "config": {
        "plotlyServerURL": "https://plot.ly"
       },
       "data": [
        {
         "alignmentgroup": "True",
         "hovertemplate": "Vaccinationsstatus=Minst 1 dos<br>Region=%{x}<br>Antal vaccinerade=%{y}<extra></extra>",
         "legendgroup": "Minst 1 dos",
         "marker": {
          "color": "#636efa",
          "pattern": {
           "shape": ""
          }
         },
         "name": "Minst 1 dos",
         "offsetgroup": "Minst 1 dos",
         "orientation": "v",
         "showlegend": true,
         "textposition": "auto",
         "type": "bar",
         "x": [
          "Stockholm",
          "Uppsala",
          "Södermanland",
          "Östergötland",
          "Jönköping",
          "Kronoberg",
          "Kalmar",
          "Gotland",
          "Blekinge",
          "Skåne",
          "Halland",
          "Västra Götaland",
          "Värmland",
          "Örebro",
          "Västmanland",
          "Dalarna",
          "Gävleborg",
          "Västernorrland",
          "Jämtland",
          "Västerbotten",
          "Norrbotten"
         ],
         "xaxis": "x",
         "y": [
          1602377,
          287332,
          211988,
          342033,
          258977,
          138682,
          178082,
          46951,
          114747,
          934807,
          239550,
          1201669,
          212396,
          217680,
          194073,
          210391,
          207051,
          179635,
          97443,
          207007,
          191178
         ],
         "yaxis": "y"
        },
        {
         "alignmentgroup": "True",
         "hovertemplate": "Vaccinationsstatus=Färdigvaccinerade<br>Region=%{x}<br>Antal vaccinerade=%{y}<extra></extra>",
         "legendgroup": "Färdigvaccinerade",
         "marker": {
          "color": "#EF553B",
          "pattern": {
           "shape": ""
          }
         },
         "name": "Färdigvaccinerade",
         "offsetgroup": "Färdigvaccinerade",
         "orientation": "v",
         "showlegend": true,
         "textposition": "auto",
         "type": "bar",
         "x": [
          "Stockholm",
          "Uppsala",
          "Södermanland",
          "Östergötland",
          "Jönköping",
          "Kronoberg",
          "Kalmar",
          "Gotland",
          "Blekinge",
          "Skåne",
          "Halland",
          "Västra Götaland",
          "Värmland",
          "Örebro",
          "Västmanland",
          "Dalarna",
          "Gävleborg",
          "Västernorrland",
          "Jämtland",
          "Västerbotten",
          "Norrbotten"
         ],
         "xaxis": "x",
         "y": [
          1459211,
          271186,
          198288,
          322659,
          238751,
          130941,
          170699,
          44373,
          110509,
          875752,
          230682,
          1109137,
          206447,
          207962,
          182815,
          198716,
          193876,
          174346,
          90428,
          196370,
          179138
         ],
         "yaxis": "y"
        }
       ],
       "layout": {
        "barmode": "group",
        "legend": {
         "title": {
          "text": "Vaccinationsstatus"
         },
         "tracegroupgap": 0
        },
        "margin": {
         "t": 60
        },
        "template": {
         "data": {
          "bar": [
           {
            "error_x": {
             "color": "#2a3f5f"
            },
            "error_y": {
             "color": "#2a3f5f"
            },
            "marker": {
             "line": {
              "color": "#E5ECF6",
              "width": 0.5
             },
             "pattern": {
              "fillmode": "overlay",
              "size": 10,
              "solidity": 0.2
             }
            },
            "type": "bar"
           }
          ],
          "barpolar": [
           {
            "marker": {
             "line": {
              "color": "#E5ECF6",
              "width": 0.5
             },
             "pattern": {
              "fillmode": "overlay",
              "size": 10,
              "solidity": 0.2
             }
            },
            "type": "barpolar"
           }
          ],
          "carpet": [
           {
            "aaxis": {
             "endlinecolor": "#2a3f5f",
             "gridcolor": "white",
             "linecolor": "white",
             "minorgridcolor": "white",
             "startlinecolor": "#2a3f5f"
            },
            "baxis": {
             "endlinecolor": "#2a3f5f",
             "gridcolor": "white",
             "linecolor": "white",
             "minorgridcolor": "white",
             "startlinecolor": "#2a3f5f"
            },
            "type": "carpet"
           }
          ],
          "choropleth": [
           {
            "colorbar": {
             "outlinewidth": 0,
             "ticks": ""
            },
            "type": "choropleth"
           }
          ],
          "contour": [
           {
            "colorbar": {
             "outlinewidth": 0,
             "ticks": ""
            },
            "colorscale": [
             [
              0,
              "#0d0887"
             ],
             [
              0.1111111111111111,
              "#46039f"
             ],
             [
              0.2222222222222222,
              "#7201a8"
             ],
             [
              0.3333333333333333,
              "#9c179e"
             ],
             [
              0.4444444444444444,
              "#bd3786"
             ],
             [
              0.5555555555555556,
              "#d8576b"
             ],
             [
              0.6666666666666666,
              "#ed7953"
             ],
             [
              0.7777777777777778,
              "#fb9f3a"
             ],
             [
              0.8888888888888888,
              "#fdca26"
             ],
             [
              1,
              "#f0f921"
             ]
            ],
            "type": "contour"
           }
          ],
          "contourcarpet": [
           {
            "colorbar": {
             "outlinewidth": 0,
             "ticks": ""
            },
            "type": "contourcarpet"
           }
          ],
          "heatmap": [
           {
            "colorbar": {
             "outlinewidth": 0,
             "ticks": ""
            },
            "colorscale": [
             [
              0,
              "#0d0887"
             ],
             [
              0.1111111111111111,
              "#46039f"
             ],
             [
              0.2222222222222222,
              "#7201a8"
             ],
             [
              0.3333333333333333,
              "#9c179e"
             ],
             [
              0.4444444444444444,
              "#bd3786"
             ],
             [
              0.5555555555555556,
              "#d8576b"
             ],
             [
              0.6666666666666666,
              "#ed7953"
             ],
             [
              0.7777777777777778,
              "#fb9f3a"
             ],
             [
              0.8888888888888888,
              "#fdca26"
             ],
             [
              1,
              "#f0f921"
             ]
            ],
            "type": "heatmap"
           }
          ],
          "heatmapgl": [
           {
            "colorbar": {
             "outlinewidth": 0,
             "ticks": ""
            },
            "colorscale": [
             [
              0,
              "#0d0887"
             ],
             [
              0.1111111111111111,
              "#46039f"
             ],
             [
              0.2222222222222222,
              "#7201a8"
             ],
             [
              0.3333333333333333,
              "#9c179e"
             ],
             [
              0.4444444444444444,
              "#bd3786"
             ],
             [
              0.5555555555555556,
              "#d8576b"
             ],
             [
              0.6666666666666666,
              "#ed7953"
             ],
             [
              0.7777777777777778,
              "#fb9f3a"
             ],
             [
              0.8888888888888888,
              "#fdca26"
             ],
             [
              1,
              "#f0f921"
             ]
            ],
            "type": "heatmapgl"
           }
          ],
          "histogram": [
           {
            "marker": {
             "pattern": {
              "fillmode": "overlay",
              "size": 10,
              "solidity": 0.2
             }
            },
            "type": "histogram"
           }
          ],
          "histogram2d": [
           {
            "colorbar": {
             "outlinewidth": 0,
             "ticks": ""
            },
            "colorscale": [
             [
              0,
              "#0d0887"
             ],
             [
              0.1111111111111111,
              "#46039f"
             ],
             [
              0.2222222222222222,
              "#7201a8"
             ],
             [
              0.3333333333333333,
              "#9c179e"
             ],
             [
              0.4444444444444444,
              "#bd3786"
             ],
             [
              0.5555555555555556,
              "#d8576b"
             ],
             [
              0.6666666666666666,
              "#ed7953"
             ],
             [
              0.7777777777777778,
              "#fb9f3a"
             ],
             [
              0.8888888888888888,
              "#fdca26"
             ],
             [
              1,
              "#f0f921"
             ]
            ],
            "type": "histogram2d"
           }
          ],
          "histogram2dcontour": [
           {
            "colorbar": {
             "outlinewidth": 0,
             "ticks": ""
            },
            "colorscale": [
             [
              0,
              "#0d0887"
             ],
             [
              0.1111111111111111,
              "#46039f"
             ],
             [
              0.2222222222222222,
              "#7201a8"
             ],
             [
              0.3333333333333333,
              "#9c179e"
             ],
             [
              0.4444444444444444,
              "#bd3786"
             ],
             [
              0.5555555555555556,
              "#d8576b"
             ],
             [
              0.6666666666666666,
              "#ed7953"
             ],
             [
              0.7777777777777778,
              "#fb9f3a"
             ],
             [
              0.8888888888888888,
              "#fdca26"
             ],
             [
              1,
              "#f0f921"
             ]
            ],
            "type": "histogram2dcontour"
           }
          ],
          "mesh3d": [
           {
            "colorbar": {
             "outlinewidth": 0,
             "ticks": ""
            },
            "type": "mesh3d"
           }
          ],
          "parcoords": [
           {
            "line": {
             "colorbar": {
              "outlinewidth": 0,
              "ticks": ""
             }
            },
            "type": "parcoords"
           }
          ],
          "pie": [
           {
            "automargin": true,
            "type": "pie"
           }
          ],
          "scatter": [
           {
            "marker": {
             "colorbar": {
              "outlinewidth": 0,
              "ticks": ""
             }
            },
            "type": "scatter"
           }
          ],
          "scatter3d": [
           {
            "line": {
             "colorbar": {
              "outlinewidth": 0,
              "ticks": ""
             }
            },
            "marker": {
             "colorbar": {
              "outlinewidth": 0,
              "ticks": ""
             }
            },
            "type": "scatter3d"
           }
          ],
          "scattercarpet": [
           {
            "marker": {
             "colorbar": {
              "outlinewidth": 0,
              "ticks": ""
             }
            },
            "type": "scattercarpet"
           }
          ],
          "scattergeo": [
           {
            "marker": {
             "colorbar": {
              "outlinewidth": 0,
              "ticks": ""
             }
            },
            "type": "scattergeo"
           }
          ],
          "scattergl": [
           {
            "marker": {
             "colorbar": {
              "outlinewidth": 0,
              "ticks": ""
             }
            },
            "type": "scattergl"
           }
          ],
          "scattermapbox": [
           {
            "marker": {
             "colorbar": {
              "outlinewidth": 0,
              "ticks": ""
             }
            },
            "type": "scattermapbox"
           }
          ],
          "scatterpolar": [
           {
            "marker": {
             "colorbar": {
              "outlinewidth": 0,
              "ticks": ""
             }
            },
            "type": "scatterpolar"
           }
          ],
          "scatterpolargl": [
           {
            "marker": {
             "colorbar": {
              "outlinewidth": 0,
              "ticks": ""
             }
            },
            "type": "scatterpolargl"
           }
          ],
          "scatterternary": [
           {
            "marker": {
             "colorbar": {
              "outlinewidth": 0,
              "ticks": ""
             }
            },
            "type": "scatterternary"
           }
          ],
          "surface": [
           {
            "colorbar": {
             "outlinewidth": 0,
             "ticks": ""
            },
            "colorscale": [
             [
              0,
              "#0d0887"
             ],
             [
              0.1111111111111111,
              "#46039f"
             ],
             [
              0.2222222222222222,
              "#7201a8"
             ],
             [
              0.3333333333333333,
              "#9c179e"
             ],
             [
              0.4444444444444444,
              "#bd3786"
             ],
             [
              0.5555555555555556,
              "#d8576b"
             ],
             [
              0.6666666666666666,
              "#ed7953"
             ],
             [
              0.7777777777777778,
              "#fb9f3a"
             ],
             [
              0.8888888888888888,
              "#fdca26"
             ],
             [
              1,
              "#f0f921"
             ]
            ],
            "type": "surface"
           }
          ],
          "table": [
           {
            "cells": {
             "fill": {
              "color": "#EBF0F8"
             },
             "line": {
              "color": "white"
             }
            },
            "header": {
             "fill": {
              "color": "#C8D4E3"
             },
             "line": {
              "color": "white"
             }
            },
            "type": "table"
           }
          ]
         },
         "layout": {
          "annotationdefaults": {
           "arrowcolor": "#2a3f5f",
           "arrowhead": 0,
           "arrowwidth": 1
          },
          "autotypenumbers": "strict",
          "coloraxis": {
           "colorbar": {
            "outlinewidth": 0,
            "ticks": ""
           }
          },
          "colorscale": {
           "diverging": [
            [
             0,
             "#8e0152"
            ],
            [
             0.1,
             "#c51b7d"
            ],
            [
             0.2,
             "#de77ae"
            ],
            [
             0.3,
             "#f1b6da"
            ],
            [
             0.4,
             "#fde0ef"
            ],
            [
             0.5,
             "#f7f7f7"
            ],
            [
             0.6,
             "#e6f5d0"
            ],
            [
             0.7,
             "#b8e186"
            ],
            [
             0.8,
             "#7fbc41"
            ],
            [
             0.9,
             "#4d9221"
            ],
            [
             1,
             "#276419"
            ]
           ],
           "sequential": [
            [
             0,
             "#0d0887"
            ],
            [
             0.1111111111111111,
             "#46039f"
            ],
            [
             0.2222222222222222,
             "#7201a8"
            ],
            [
             0.3333333333333333,
             "#9c179e"
            ],
            [
             0.4444444444444444,
             "#bd3786"
            ],
            [
             0.5555555555555556,
             "#d8576b"
            ],
            [
             0.6666666666666666,
             "#ed7953"
            ],
            [
             0.7777777777777778,
             "#fb9f3a"
            ],
            [
             0.8888888888888888,
             "#fdca26"
            ],
            [
             1,
             "#f0f921"
            ]
           ],
           "sequentialminus": [
            [
             0,
             "#0d0887"
            ],
            [
             0.1111111111111111,
             "#46039f"
            ],
            [
             0.2222222222222222,
             "#7201a8"
            ],
            [
             0.3333333333333333,
             "#9c179e"
            ],
            [
             0.4444444444444444,
             "#bd3786"
            ],
            [
             0.5555555555555556,
             "#d8576b"
            ],
            [
             0.6666666666666666,
             "#ed7953"
            ],
            [
             0.7777777777777778,
             "#fb9f3a"
            ],
            [
             0.8888888888888888,
             "#fdca26"
            ],
            [
             1,
             "#f0f921"
            ]
           ]
          },
          "colorway": [
           "#636efa",
           "#EF553B",
           "#00cc96",
           "#ab63fa",
           "#FFA15A",
           "#19d3f3",
           "#FF6692",
           "#B6E880",
           "#FF97FF",
           "#FECB52"
          ],
          "font": {
           "color": "#2a3f5f"
          },
          "geo": {
           "bgcolor": "white",
           "lakecolor": "white",
           "landcolor": "#E5ECF6",
           "showlakes": true,
           "showland": true,
           "subunitcolor": "white"
          },
          "hoverlabel": {
           "align": "left"
          },
          "hovermode": "closest",
          "mapbox": {
           "style": "light"
          },
          "paper_bgcolor": "white",
          "plot_bgcolor": "#E5ECF6",
          "polar": {
           "angularaxis": {
            "gridcolor": "white",
            "linecolor": "white",
            "ticks": ""
           },
           "bgcolor": "#E5ECF6",
           "radialaxis": {
            "gridcolor": "white",
            "linecolor": "white",
            "ticks": ""
           }
          },
          "scene": {
           "xaxis": {
            "backgroundcolor": "#E5ECF6",
            "gridcolor": "white",
            "gridwidth": 2,
            "linecolor": "white",
            "showbackground": true,
            "ticks": "",
            "zerolinecolor": "white"
           },
           "yaxis": {
            "backgroundcolor": "#E5ECF6",
            "gridcolor": "white",
            "gridwidth": 2,
            "linecolor": "white",
            "showbackground": true,
            "ticks": "",
            "zerolinecolor": "white"
           },
           "zaxis": {
            "backgroundcolor": "#E5ECF6",
            "gridcolor": "white",
            "gridwidth": 2,
            "linecolor": "white",
            "showbackground": true,
            "ticks": "",
            "zerolinecolor": "white"
           }
          },
          "shapedefaults": {
           "line": {
            "color": "#2a3f5f"
           }
          },
          "ternary": {
           "aaxis": {
            "gridcolor": "white",
            "linecolor": "white",
            "ticks": ""
           },
           "baxis": {
            "gridcolor": "white",
            "linecolor": "white",
            "ticks": ""
           },
           "bgcolor": "#E5ECF6",
           "caxis": {
            "gridcolor": "white",
            "linecolor": "white",
            "ticks": ""
           }
          },
          "title": {
           "x": 0.05
          },
          "xaxis": {
           "automargin": true,
           "gridcolor": "white",
           "linecolor": "white",
           "ticks": "",
           "title": {
            "standoff": 15
           },
           "zerolinecolor": "white",
           "zerolinewidth": 2
          },
          "yaxis": {
           "automargin": true,
           "gridcolor": "white",
           "linecolor": "white",
           "ticks": "",
           "title": {
            "standoff": 15
           },
           "zerolinecolor": "white",
           "zerolinewidth": 2
          }
         }
        },
        "xaxis": {
         "anchor": "y",
         "domain": [
          0,
          1
         ],
         "title": {
          "text": "Region"
         }
        },
        "yaxis": {
         "anchor": "x",
         "domain": [
          0,
          1
         ],
         "title": {
          "text": "Antal vaccinerade"
         }
        }
       }
      }
     },
     "metadata": {},
     "output_type": "display_data"
    }
   ],
   "source": [
    "fig = px.bar(vaccination_ålder_uppföljning, x='Region', y='Antal vaccinerade', color='Vaccinationsstatus', barmode='group')\n",
    "fig.show()"
   ]
  }
 ],
 "metadata": {
  "interpreter": {
   "hash": "81322f1d5f5b025dc9d26743ae6b0887709891d1868e2519a65f496d34ef2711"
  },
  "kernelspec": {
   "display_name": "Python 3.9.6 64-bit ('Databehandling-21-RDeAT-oS': pipenv)",
   "name": "python3"
  },
  "language_info": {
   "codemirror_mode": {
    "name": "ipython",
    "version": 3
   },
   "file_extension": ".py",
   "mimetype": "text/x-python",
   "name": "python",
   "nbconvert_exporter": "python",
   "pygments_lexer": "ipython3",
   "version": "3.9.6"
  },
  "orig_nbformat": 4
 },
 "nbformat": 4,
 "nbformat_minor": 2
}
