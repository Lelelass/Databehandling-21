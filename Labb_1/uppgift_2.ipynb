{
 "cells": [
  {
   "cell_type": "markdown",
   "metadata": {},
   "source": [
    "# Uppgift 2 - Uppvärmning vaccindata"
   ]
  },
  {
   "cell_type": "code",
   "execution_count": 3,
   "metadata": {},
   "outputs": [
    {
     "data": {
      "text/html": [
       "<div>\n",
       "<style scoped>\n",
       "    .dataframe tbody tr th:only-of-type {\n",
       "        vertical-align: middle;\n",
       "    }\n",
       "\n",
       "    .dataframe tbody tr th {\n",
       "        vertical-align: top;\n",
       "    }\n",
       "\n",
       "    .dataframe thead th {\n",
       "        text-align: right;\n",
       "    }\n",
       "</style>\n",
       "<table border=\"1\" class=\"dataframe\">\n",
       "  <thead>\n",
       "    <tr style=\"text-align: right;\">\n",
       "      <th></th>\n",
       "      <th>KnKod</th>\n",
       "      <th>KnNamn</th>\n",
       "      <th>Antal_dos1</th>\n",
       "      <th>Antal_färdigvaccinerade</th>\n",
       "      <th>Andel_dos1</th>\n",
       "      <th>Andel_färdigvaccinerade</th>\n",
       "    </tr>\n",
       "  </thead>\n",
       "  <tbody>\n",
       "    <tr>\n",
       "      <th>0</th>\n",
       "      <td>114</td>\n",
       "      <td>Upplands Väsby</td>\n",
       "      <td>30030</td>\n",
       "      <td>27537</td>\n",
       "      <td>0.789183</td>\n",
       "      <td>0.723668</td>\n",
       "    </tr>\n",
       "    <tr>\n",
       "      <th>1</th>\n",
       "      <td>115</td>\n",
       "      <td>Vallentuna</td>\n",
       "      <td>23165</td>\n",
       "      <td>21681</td>\n",
       "      <td>0.858344</td>\n",
       "      <td>0.803357</td>\n",
       "    </tr>\n",
       "    <tr>\n",
       "      <th>2</th>\n",
       "      <td>117</td>\n",
       "      <td>Österåker</td>\n",
       "      <td>32922</td>\n",
       "      <td>30615</td>\n",
       "      <td>0.876751</td>\n",
       "      <td>0.815313</td>\n",
       "    </tr>\n",
       "    <tr>\n",
       "      <th>3</th>\n",
       "      <td>120</td>\n",
       "      <td>Värmdö</td>\n",
       "      <td>31618</td>\n",
       "      <td>28831</td>\n",
       "      <td>0.865180</td>\n",
       "      <td>0.788918</td>\n",
       "    </tr>\n",
       "    <tr>\n",
       "      <th>4</th>\n",
       "      <td>123</td>\n",
       "      <td>Järfälla</td>\n",
       "      <td>51550</td>\n",
       "      <td>47186</td>\n",
       "      <td>0.786459</td>\n",
       "      <td>0.719880</td>\n",
       "    </tr>\n",
       "  </tbody>\n",
       "</table>\n",
       "</div>"
      ],
      "text/plain": [
       "   KnKod          KnNamn  Antal_dos1  Antal_färdigvaccinerade  Andel_dos1  \\\n",
       "0    114  Upplands Väsby       30030                    27537    0.789183   \n",
       "1    115      Vallentuna       23165                    21681    0.858344   \n",
       "2    117       Österåker       32922                    30615    0.876751   \n",
       "3    120          Värmdö       31618                    28831    0.865180   \n",
       "4    123        Järfälla       51550                    47186    0.786459   \n",
       "\n",
       "   Andel_färdigvaccinerade  \n",
       "0                 0.723668  \n",
       "1                 0.803357  \n",
       "2                 0.815313  \n",
       "3                 0.788918  \n",
       "4                 0.719880  "
      ]
     },
     "execution_count": 3,
     "metadata": {},
     "output_type": "execute_result"
    }
   ],
   "source": [
    "import pandas as pd\n",
    "path = \"Data/Folkhalsomyndigheten_Covid19_Vaccine.xlsx\"\n",
    "vaccination = pd.read_excel(path, sheet_name=\"Vaccinerade kommun\")\n",
    "vaccination.head()"
   ]
  }
 ],
 "metadata": {
  "interpreter": {
   "hash": "81322f1d5f5b025dc9d26743ae6b0887709891d1868e2519a65f496d34ef2711"
  },
  "kernelspec": {
   "display_name": "Python 3.9.6 64-bit ('Databehandling-21-RDeAT-oS': pipenv)",
   "name": "python3"
  },
  "language_info": {
   "codemirror_mode": {
    "name": "ipython",
    "version": 3
   },
   "file_extension": ".py",
   "mimetype": "text/x-python",
   "name": "python",
   "nbconvert_exporter": "python",
   "pygments_lexer": "ipython3",
   "version": "3.9.6"
  },
  "orig_nbformat": 4
 },
 "nbformat": 4,
 "nbformat_minor": 2
}
